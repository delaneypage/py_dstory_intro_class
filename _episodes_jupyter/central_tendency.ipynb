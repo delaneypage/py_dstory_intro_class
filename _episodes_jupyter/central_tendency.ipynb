{
 "cells": [
  {
   "cell_type": "markdown",
   "metadata": {},
   "source": [
    "# Central Tendency in Python\n",
    "\n",
    "## Descriptive Statistics\n",
    "\n",
    "We will use the *Loblolly* dataset that we have used in previous modules to explore basic descriptive statistics. But first, we need to look at the structure of the dataset.  \n"
   ]
  },
  {
   "cell_type": "code",
   "execution_count": 6,
   "metadata": {},
   "outputs": [],
   "source": [
    "import numpy as np\n",
    "import pandas as pd\n"
   ]
  },
  {
   "cell_type": "code",
   "execution_count": 7,
   "metadata": {},
   "outputs": [
    {
     "data": {
      "text/html": [
       "<div>\n",
       "<style scoped>\n",
       "    .dataframe tbody tr th:only-of-type {\n",
       "        vertical-align: middle;\n",
       "    }\n",
       "\n",
       "    .dataframe tbody tr th {\n",
       "        vertical-align: top;\n",
       "    }\n",
       "\n",
       "    .dataframe thead th {\n",
       "        text-align: right;\n",
       "    }\n",
       "</style>\n",
       "<table border=\"1\" class=\"dataframe\">\n",
       "  <thead>\n",
       "    <tr style=\"text-align: right;\">\n",
       "      <th></th>\n",
       "      <th>height</th>\n",
       "      <th>age</th>\n",
       "      <th>Seed</th>\n",
       "    </tr>\n",
       "  </thead>\n",
       "  <tbody>\n",
       "    <tr>\n",
       "      <th>count</th>\n",
       "      <td>84.000000</td>\n",
       "      <td>84.000000</td>\n",
       "      <td>84.000000</td>\n",
       "    </tr>\n",
       "    <tr>\n",
       "      <th>mean</th>\n",
       "      <td>32.364405</td>\n",
       "      <td>13.000000</td>\n",
       "      <td>316.142857</td>\n",
       "    </tr>\n",
       "    <tr>\n",
       "      <th>std</th>\n",
       "      <td>20.673605</td>\n",
       "      <td>7.899977</td>\n",
       "      <td>9.877738</td>\n",
       "    </tr>\n",
       "    <tr>\n",
       "      <th>min</th>\n",
       "      <td>3.460000</td>\n",
       "      <td>3.000000</td>\n",
       "      <td>301.000000</td>\n",
       "    </tr>\n",
       "    <tr>\n",
       "      <th>25%</th>\n",
       "      <td>10.467500</td>\n",
       "      <td>5.000000</td>\n",
       "      <td>307.000000</td>\n",
       "    </tr>\n",
       "    <tr>\n",
       "      <th>50%</th>\n",
       "      <td>34.000000</td>\n",
       "      <td>12.500000</td>\n",
       "      <td>317.000000</td>\n",
       "    </tr>\n",
       "    <tr>\n",
       "      <th>75%</th>\n",
       "      <td>51.362500</td>\n",
       "      <td>20.000000</td>\n",
       "      <td>325.000000</td>\n",
       "    </tr>\n",
       "    <tr>\n",
       "      <th>max</th>\n",
       "      <td>64.100000</td>\n",
       "      <td>25.000000</td>\n",
       "      <td>331.000000</td>\n",
       "    </tr>\n",
       "  </tbody>\n",
       "</table>\n",
       "</div>"
      ],
      "text/plain": [
       "          height        age        Seed\n",
       "count  84.000000  84.000000   84.000000\n",
       "mean   32.364405  13.000000  316.142857\n",
       "std    20.673605   7.899977    9.877738\n",
       "min     3.460000   3.000000  301.000000\n",
       "25%    10.467500   5.000000  307.000000\n",
       "50%    34.000000  12.500000  317.000000\n",
       "75%    51.362500  20.000000  325.000000\n",
       "max    64.100000  25.000000  331.000000"
      ]
     },
     "execution_count": 7,
     "metadata": {},
     "output_type": "execute_result"
    }
   ],
   "source": [
    "df = pd.read_csv('../data/Loblolly.csv')\n",
    "df.describe()"
   ]
  },
  {
   "cell_type": "markdown",
   "metadata": {},
   "source": [
    "This dataset has three variables: height, age, and seed. Let's explore the height variable.  \n"
   ]
  },
  {
   "cell_type": "code",
   "execution_count": 8,
   "metadata": {},
   "outputs": [
    {
     "data": {
      "text/plain": [
       "0      4.51\n",
       "1     10.89\n",
       "2     28.72\n",
       "3     41.74\n",
       "4     52.70\n",
       "5     60.92\n",
       "6      4.55\n",
       "7     10.92\n",
       "8     29.07\n",
       "9     42.83\n",
       "10    53.88\n",
       "11    63.39\n",
       "12     4.79\n",
       "13    11.37\n",
       "14    30.21\n",
       "15    44.40\n",
       "16    55.82\n",
       "17    64.10\n",
       "18     3.91\n",
       "19     9.48\n",
       "20    25.66\n",
       "21    39.07\n",
       "22    50.78\n",
       "23    59.07\n",
       "24     4.81\n",
       "25    11.20\n",
       "26    28.66\n",
       "27    41.66\n",
       "28    53.31\n",
       "29    63.05\n",
       "30     3.88\n",
       "31     9.40\n",
       "32    25.99\n",
       "33    39.55\n",
       "34    51.46\n",
       "35    59.64\n",
       "36     4.32\n",
       "37    10.43\n",
       "38    27.16\n",
       "39    40.85\n",
       "40    51.33\n",
       "41    60.07\n",
       "42     4.57\n",
       "43    10.57\n",
       "44    27.90\n",
       "45    41.13\n",
       "46    52.43\n",
       "47    60.69\n",
       "48     3.77\n",
       "49     9.03\n",
       "50    25.45\n",
       "51    38.98\n",
       "52    49.76\n",
       "53    60.28\n",
       "54     4.33\n",
       "55    10.79\n",
       "56    28.97\n",
       "57    42.44\n",
       "58    53.17\n",
       "59    61.62\n",
       "60     4.38\n",
       "61    10.48\n",
       "62    27.93\n",
       "63    40.20\n",
       "64    50.06\n",
       "65    58.49\n",
       "66     4.12\n",
       "67     9.92\n",
       "68    26.54\n",
       "69    37.82\n",
       "70    48.43\n",
       "71    56.81\n",
       "72     3.93\n",
       "73     9.34\n",
       "74    26.08\n",
       "75    37.79\n",
       "76    48.31\n",
       "77    56.43\n",
       "78     3.46\n",
       "79     9.05\n",
       "80    25.85\n",
       "81    39.15\n",
       "82    49.12\n",
       "83    59.49\n",
       "Name: height, dtype: float64"
      ]
     },
     "execution_count": 8,
     "metadata": {},
     "output_type": "execute_result"
    }
   ],
   "source": [
    "# Display the data in the height column\n",
    "df['height']"
   ]
  },
  {
   "cell_type": "markdown",
   "metadata": {},
   "source": [
    "\n",
    "Now let's calculate the descriptive statistics for this variable using a variety of functions for summarizing data.\n",
    "\n",
    "Minimum - smallest value  "
   ]
  },
  {
   "cell_type": "code",
   "execution_count": 9,
   "metadata": {},
   "outputs": [
    {
     "data": {
      "text/plain": [
       "3.46"
      ]
     },
     "execution_count": 9,
     "metadata": {},
     "output_type": "execute_result"
    }
   ],
   "source": [
    "min(df['height'])\n",
    "df['height'].min()"
   ]
  },
  {
   "cell_type": "markdown",
   "metadata": {},
   "source": [
    "\n",
    "Maximum - largest value"
   ]
  },
  {
   "cell_type": "code",
   "execution_count": 10,
   "metadata": {},
   "outputs": [
    {
     "data": {
      "text/plain": [
       "64.1"
      ]
     },
     "execution_count": 10,
     "metadata": {},
     "output_type": "execute_result"
    }
   ],
   "source": [
    "max(df['height'])\n",
    "df['height'].max()"
   ]
  },
  {
   "cell_type": "markdown",
   "metadata": {},
   "source": [
    "\n",
    "Median - middle number when all of the values are organized from smallest to largest"
   ]
  },
  {
   "cell_type": "code",
   "execution_count": 11,
   "metadata": {},
   "outputs": [
    {
     "data": {
      "text/plain": [
       "34.0"
      ]
     },
     "execution_count": 11,
     "metadata": {},
     "output_type": "execute_result"
    }
   ],
   "source": [
    "df['height'].median()"
   ]
  },
  {
   "cell_type": "code",
   "execution_count": 12,
   "metadata": {},
   "outputs": [
    {
     "data": {
      "text/plain": [
       "34.0"
      ]
     },
     "execution_count": 12,
     "metadata": {},
     "output_type": "execute_result"
    }
   ],
   "source": [
    "df.height.median()"
   ]
  },
  {
   "cell_type": "markdown",
   "metadata": {},
   "source": [
    "Quantiles"
   ]
  },
  {
   "cell_type": "code",
   "execution_count": 13,
   "metadata": {},
   "outputs": [
    {
     "data": {
      "text/plain": [
       "0.25    10.4675\n",
       "0.75    51.3625\n",
       "Name: height, dtype: float64"
      ]
     },
     "execution_count": 13,
     "metadata": {},
     "output_type": "execute_result"
    }
   ],
   "source": [
    "df.height.quantile([.25,.75])"
   ]
  },
  {
   "cell_type": "code",
   "execution_count": 14,
   "metadata": {},
   "outputs": [
    {
     "data": {
      "text/plain": [
       "32.36440476190475"
      ]
     },
     "execution_count": 14,
     "metadata": {},
     "output_type": "execute_result"
    }
   ],
   "source": [
    "df.height.mean()"
   ]
  },
  {
   "cell_type": "code",
   "execution_count": 15,
   "metadata": {},
   "outputs": [
    {
     "data": {
      "text/plain": [
       "count    84.000000\n",
       "mean     32.364405\n",
       "std      20.673605\n",
       "min       3.460000\n",
       "25%      10.467500\n",
       "50%      34.000000\n",
       "75%      51.362500\n",
       "max      64.100000\n",
       "Name: height, dtype: float64"
      ]
     },
     "execution_count": 15,
     "metadata": {},
     "output_type": "execute_result"
    }
   ],
   "source": [
    "df.height.describe()"
   ]
  },
  {
   "cell_type": "code",
   "execution_count": 16,
   "metadata": {},
   "outputs": [],
   "source": [
    "df.Seed = df.Seed.astype('category')"
   ]
  },
  {
   "cell_type": "code",
   "execution_count": 17,
   "metadata": {},
   "outputs": [
    {
     "data": {
      "text/plain": [
       "count      84\n",
       "unique     14\n",
       "top       331\n",
       "freq        6\n",
       "Name: Seed, dtype: int64"
      ]
     },
     "execution_count": 17,
     "metadata": {},
     "output_type": "execute_result"
    }
   ],
   "source": [
    "df.Seed.describe()"
   ]
  },
  {
   "cell_type": "code",
   "execution_count": 18,
   "metadata": {},
   "outputs": [
    {
     "data": {
      "text/html": [
       "<div>\n",
       "<style scoped>\n",
       "    .dataframe tbody tr th:only-of-type {\n",
       "        vertical-align: middle;\n",
       "    }\n",
       "\n",
       "    .dataframe tbody tr th {\n",
       "        vertical-align: top;\n",
       "    }\n",
       "\n",
       "    .dataframe thead th {\n",
       "        text-align: right;\n",
       "    }\n",
       "</style>\n",
       "<table border=\"1\" class=\"dataframe\">\n",
       "  <thead>\n",
       "    <tr style=\"text-align: right;\">\n",
       "      <th></th>\n",
       "      <th>height</th>\n",
       "      <th>age</th>\n",
       "      <th>Seed</th>\n",
       "    </tr>\n",
       "  </thead>\n",
       "  <tbody>\n",
       "    <tr>\n",
       "      <th>0</th>\n",
       "      <td>4.51</td>\n",
       "      <td>3.0</td>\n",
       "      <td>301</td>\n",
       "    </tr>\n",
       "    <tr>\n",
       "      <th>1</th>\n",
       "      <td>10.89</td>\n",
       "      <td>5.0</td>\n",
       "      <td>301</td>\n",
       "    </tr>\n",
       "    <tr>\n",
       "      <th>2</th>\n",
       "      <td>28.72</td>\n",
       "      <td>10.0</td>\n",
       "      <td>301</td>\n",
       "    </tr>\n",
       "    <tr>\n",
       "      <th>3</th>\n",
       "      <td>41.74</td>\n",
       "      <td>15.0</td>\n",
       "      <td>301</td>\n",
       "    </tr>\n",
       "    <tr>\n",
       "      <th>4</th>\n",
       "      <td>52.70</td>\n",
       "      <td>20.0</td>\n",
       "      <td>301</td>\n",
       "    </tr>\n",
       "  </tbody>\n",
       "</table>\n",
       "</div>"
      ],
      "text/plain": [
       "   height   age Seed\n",
       "0    4.51   3.0  301\n",
       "1   10.89   5.0  301\n",
       "2   28.72  10.0  301\n",
       "3   41.74  15.0  301\n",
       "4   52.70  20.0  301"
      ]
     },
     "execution_count": 18,
     "metadata": {},
     "output_type": "execute_result"
    }
   ],
   "source": [
    "df.head()"
   ]
  },
  {
   "cell_type": "markdown",
   "metadata": {},
   "source": [
    "### Note\n",
    "All of the values are rounded to the nearest integer before these values are calculated in the summary command, which is why they are slightly different than the values calculated above using the individual commands."
   ]
  },
  {
   "cell_type": "markdown",
   "metadata": {},
   "source": [
    "## Missing Values"
   ]
  },
  {
   "cell_type": "markdown",
   "metadata": {},
   "source": [
    "Datasets are rarely perfect, and there is often data missing. First, here is a simple example with one value missing."
   ]
  },
  {
   "cell_type": "code",
   "execution_count": 19,
   "metadata": {},
   "outputs": [
    {
     "data": {
      "text/plain": [
       "0    1.0\n",
       "1    2.0\n",
       "2    3.0\n",
       "3    NaN\n",
       "4    5.0\n",
       "dtype: float64"
      ]
     },
     "execution_count": 19,
     "metadata": {},
     "output_type": "execute_result"
    }
   ],
   "source": [
    "a = pd.Series([1,2,3,float('nan'),5])\n",
    "b = pd.Series([1,2,3,4,5])\n",
    "a"
   ]
  },
  {
   "cell_type": "code",
   "execution_count": 20,
   "metadata": {},
   "outputs": [
    {
     "name": "stdout",
     "output_type": "stream",
     "text": [
      "a has mean 2.75 and b has mean 3.0\n"
     ]
    }
   ],
   "source": [
    "print(f\"a has mean {a.mean()} and b has mean {b.mean()}\")"
   ]
  },
  {
   "cell_type": "code",
   "execution_count": 21,
   "metadata": {},
   "outputs": [
    {
     "name": "stdout",
     "output_type": "stream",
     "text": [
      "a has count 4 and b has count 5\n"
     ]
    }
   ],
   "source": [
    "print(f\"a has count {a.count()} and b has count {b.count()}\")"
   ]
  },
  {
   "cell_type": "markdown",
   "metadata": {},
   "source": [
    "And remember all pandas dataframes are just pandas Series combined together, with each Series representing a column. So these calculations that drop the NaN will also hold on dataframes."
   ]
  },
  {
   "cell_type": "markdown",
   "metadata": {},
   "source": [
    "## Problem Set\n",
    "\n",
    "1. For this assignment, we will use the *trees* built-in dataset. This dataset gives measurements of girth, height, and volume of timber for 31 black cherry trees. Explore the structure of this dataset.  \n",
    "\n",
    "2. What is the minimum and maximum girth for the black cherry trees?  \n",
    "\n",
    "3. What is the mean and median girth of black cherry trees?  \n",
    "\n",
    "4. What is the minimum and maximum height for the black cherry trees?  \n",
    "\n",
    "5. What are the quantile (0%,25%,50%,75%,100%) heights for black cherry trees? \n",
    "\n",
    "6. Use the *summary* command to find the descriptive statistics of height for black cherry trees. What is the mean and median?  \n",
    "\n",
    "7. Create a boxplot of the height of black cherry trees. Do the values on the plot match the values from the *summary* command?\n",
    "\n",
    "8. Plot the height versus the girth of black cherry trees. Make sure to include a title and axis labels. What is the general relationship between the two variables?\n"
   ]
  },
  {
   "cell_type": "code",
   "execution_count": 22,
   "metadata": {},
   "outputs": [
    {
     "name": "stdout",
     "output_type": "stream",
     "text": [
      "<class 'pandas.core.frame.DataFrame'>\n",
      "RangeIndex: 31 entries, 0 to 30\n",
      "Data columns (total 3 columns):\n",
      "Girth     31 non-null float64\n",
      "Height    31 non-null float64\n",
      "Volume    31 non-null float64\n",
      "dtypes: float64(3)\n",
      "memory usage: 824.0 bytes\n"
     ]
    }
   ],
   "source": [
    "trees = pd.read_csv('../data/trees.csv')\n",
    "\n",
    "trees.info()"
   ]
  },
  {
   "cell_type": "code",
   "execution_count": 23,
   "metadata": {},
   "outputs": [
    {
     "data": {
      "text/html": [
       "<div>\n",
       "<style scoped>\n",
       "    .dataframe tbody tr th:only-of-type {\n",
       "        vertical-align: middle;\n",
       "    }\n",
       "\n",
       "    .dataframe tbody tr th {\n",
       "        vertical-align: top;\n",
       "    }\n",
       "\n",
       "    .dataframe thead th {\n",
       "        text-align: right;\n",
       "    }\n",
       "</style>\n",
       "<table border=\"1\" class=\"dataframe\">\n",
       "  <thead>\n",
       "    <tr style=\"text-align: right;\">\n",
       "      <th></th>\n",
       "      <th>Girth</th>\n",
       "      <th>Height</th>\n",
       "      <th>Volume</th>\n",
       "    </tr>\n",
       "  </thead>\n",
       "  <tbody>\n",
       "    <tr>\n",
       "      <th>count</th>\n",
       "      <td>31.000000</td>\n",
       "      <td>31.000000</td>\n",
       "      <td>31.000000</td>\n",
       "    </tr>\n",
       "    <tr>\n",
       "      <th>mean</th>\n",
       "      <td>13.248387</td>\n",
       "      <td>76.000000</td>\n",
       "      <td>30.170968</td>\n",
       "    </tr>\n",
       "    <tr>\n",
       "      <th>std</th>\n",
       "      <td>3.138139</td>\n",
       "      <td>6.371813</td>\n",
       "      <td>16.437846</td>\n",
       "    </tr>\n",
       "    <tr>\n",
       "      <th>min</th>\n",
       "      <td>8.300000</td>\n",
       "      <td>63.000000</td>\n",
       "      <td>10.200000</td>\n",
       "    </tr>\n",
       "    <tr>\n",
       "      <th>25%</th>\n",
       "      <td>11.050000</td>\n",
       "      <td>72.000000</td>\n",
       "      <td>19.400000</td>\n",
       "    </tr>\n",
       "    <tr>\n",
       "      <th>50%</th>\n",
       "      <td>12.900000</td>\n",
       "      <td>76.000000</td>\n",
       "      <td>24.200000</td>\n",
       "    </tr>\n",
       "    <tr>\n",
       "      <th>75%</th>\n",
       "      <td>15.250000</td>\n",
       "      <td>80.000000</td>\n",
       "      <td>37.300000</td>\n",
       "    </tr>\n",
       "    <tr>\n",
       "      <th>max</th>\n",
       "      <td>20.600000</td>\n",
       "      <td>87.000000</td>\n",
       "      <td>77.000000</td>\n",
       "    </tr>\n",
       "  </tbody>\n",
       "</table>\n",
       "</div>"
      ],
      "text/plain": [
       "           Girth     Height     Volume\n",
       "count  31.000000  31.000000  31.000000\n",
       "mean   13.248387  76.000000  30.170968\n",
       "std     3.138139   6.371813  16.437846\n",
       "min     8.300000  63.000000  10.200000\n",
       "25%    11.050000  72.000000  19.400000\n",
       "50%    12.900000  76.000000  24.200000\n",
       "75%    15.250000  80.000000  37.300000\n",
       "max    20.600000  87.000000  77.000000"
      ]
     },
     "execution_count": 23,
     "metadata": {},
     "output_type": "execute_result"
    }
   ],
   "source": [
    "trees.describe()"
   ]
  },
  {
   "cell_type": "code",
   "execution_count": 24,
   "metadata": {},
   "outputs": [
    {
     "data": {
      "text/plain": [
       "<matplotlib.axes._subplots.AxesSubplot at 0x7f3cee2fd978>"
      ]
     },
     "execution_count": 24,
     "metadata": {},
     "output_type": "execute_result"
    },
    {
     "data": {
      "image/png": "[encoded data removed]",
      "text/plain": [
       "<Figure size 432x288 with 1 Axes>"
      ]
     },
     "metadata": {
      "needs_background": "light"
     },
     "output_type": "display_data"
    }
   ],
   "source": [
    "trees.plot(x='Height', y='Girth', kind='scatter')"
   ]
  }
 ],
 "metadata": {
  "kernelspec": {
   "display_name": "Python 3",
   "language": "python",
   "name": "python3"
  },
  "language_info": {
   "codemirror_mode": {
    "name": "ipython",
    "version": 3
   },
   "file_extension": ".py",
   "mimetype": "text/x-python",
   "name": "python",
   "nbconvert_exporter": "python",
   "pygments_lexer": "ipython3",
   "version": "3.7.0"
  }
 },
 "nbformat": 4,
 "nbformat_minor": 2
}

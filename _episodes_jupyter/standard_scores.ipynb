{
 "cells": [
  {
   "cell_type": "markdown",
   "metadata": {},
   "source": [
    "# Standard Scores (Instructional Worksheet)\n",
    "\n",
    "## Normal Distribution\n",
    "\n",
    "Using Python we can generate random numbers within a distribution, such as the normal distribution. This can be useful if we want so simulate data.\n",
    "\n",
    "For a normal distribution, the standard normal distribution have a mean of 0 and a standard deviation of 1. If we want to generate 100 numbers using the standard normal distribution we do the following:"
   ]
  },
  {
   "cell_type": "code",
   "execution_count": 5,
   "metadata": {},
   "outputs": [
    {
     "data": {
      "text/plain": [
       "array([ 0.33922776,  0.2657346 ,  1.59482731, -0.27996954,  1.44172246,\n",
       "       -0.3300083 , -0.60439896, -1.79439058, -0.56383535, -0.46293581,\n",
       "        0.16684033,  0.59304381, -1.18417812,  0.34713154, -0.52711135,\n",
       "       -0.66693308, -1.35427382, -1.6941757 , -0.45732757,  0.29207154,\n",
       "       -0.11571799,  0.17622843,  0.58248122,  0.70709646,  1.68125695,\n",
       "       -0.09952097, -1.45148403,  0.84428217,  0.7678578 ,  0.81526539,\n",
       "       -0.52916625,  0.0081121 ,  1.50276031,  1.08646915,  0.16208859,\n",
       "       -0.14215603,  1.70691929, -0.9389669 , -1.63343321,  0.42599121,\n",
       "       -0.50276739, -0.66104671, -1.1316392 ,  0.64601894, -0.28128314,\n",
       "       -0.83976449,  1.30193848, -0.28618087,  0.54014934, -0.02302627,\n",
       "        1.13402112,  0.44933955,  0.03140109, -0.19189754,  1.08614464,\n",
       "       -0.80577894, -1.27010233,  0.6800621 , -2.34863907,  0.83218665,\n",
       "       -0.18581969,  1.67798038, -1.42639087, -0.36289811,  0.78139433,\n",
       "        0.7609463 , -0.4739634 ,  0.42320801,  0.53200998,  0.39881754,\n",
       "       -1.85724391,  0.33620504,  0.97859307,  0.99056893,  0.4064561 ,\n",
       "        1.13357855, -1.29938857, -0.2465163 ,  1.22111287,  0.55601713,\n",
       "        0.17531001,  0.159289  , -1.26371498, -0.93941353, -0.38140174,\n",
       "        0.29001008,  1.60509072,  0.29475693,  1.54459765, -0.36741903,\n",
       "        0.32292525,  0.82971794,  1.29992946,  1.1820143 ,  0.38126173,\n",
       "       -0.10445929, -1.96549472, -0.66379589,  0.33359678,  0.47948026])"
      ]
     },
     "execution_count": 5,
     "metadata": {},
     "output_type": "execute_result"
    }
   ],
   "source": [
    "import numpy as np\n",
    "\n",
    "np.random.normal(size=100)"
   ]
  },
  {
   "cell_type": "markdown",
   "metadata": {},
   "source": [
    "We can also generate numbers within a normal distribution with a given mean or standard deviation. For example, assume the mean(loc) is 3 and the standard deviation(scale) is 1.5. This time we want to generate 150 numbers. "
   ]
  },
  {
   "cell_type": "code",
   "execution_count": 6,
   "metadata": {},
   "outputs": [
    {
     "data": {
      "text/plain": [
       "array([-1.91748262,  2.47352951,  4.5694305 ,  2.99289602,  4.64581681,\n",
       "        3.52672399,  3.96492684,  4.17339083,  3.44061447,  0.14794478,\n",
       "        4.53994059,  2.79958192,  3.82255021,  4.14586736,  3.74398398,\n",
       "        0.96880625,  4.47334141,  5.51314437,  3.76376075,  1.99515563,\n",
       "        4.07089598,  3.0823122 ,  3.17234657,  0.64677809,  1.94600053,\n",
       "        0.43494373,  3.32955559,  3.3084171 ,  0.89702233,  3.86079584,\n",
       "        4.55988638,  2.0442156 ,  1.12492011,  1.27350897,  1.22995123,\n",
       "        2.68587036,  1.9204603 ,  1.87409025,  3.91961981,  5.12139618,\n",
       "        1.92466985,  3.32191919,  1.40043823,  2.87095708,  3.7191602 ,\n",
       "        4.56869433,  3.58452409,  2.68785071,  4.72104387,  1.12859299,\n",
       "        5.07299535,  2.7079695 ,  2.37556811,  3.72840705,  1.38478819,\n",
       "        2.83928831,  0.39977824,  3.96340594,  0.03879276,  3.35793199,\n",
       "        4.83237396,  4.73245808,  4.45196292,  0.76257743,  4.87118531,\n",
       "        2.68820053,  2.01214952,  1.72080592,  4.32400568,  2.44415444,\n",
       "        5.03283454,  1.74467288,  4.87030574,  1.02085323,  1.77551104,\n",
       "        5.01072012,  6.8926105 ,  2.31459526,  1.80189321,  3.59733527,\n",
       "        2.5988343 ,  2.45591772,  4.07586528,  4.09623242,  3.49325258,\n",
       "        2.76556406,  2.62763322,  3.27443143,  5.61471149,  3.01775197,\n",
       "        2.23965346,  0.62702367,  4.46061136,  2.63349842,  3.99475104,\n",
       "        1.87532377,  4.84636518,  3.45118127,  3.72741405,  1.49753169,\n",
       "        5.73158514,  3.16122637,  3.31403124,  4.15948632,  5.39098138,\n",
       "        2.47922436, -1.13745474,  2.91300289,  2.9711551 ,  2.30929706,\n",
       "        4.90721703,  4.06977666,  4.57999688,  4.61497103,  0.32461478,\n",
       "        1.68464788,  1.64334063,  1.60771065,  2.52665123,  3.89922743,\n",
       "        6.51807714, -0.93698246,  4.70839386,  0.34809662,  4.25133962,\n",
       "        3.69165247,  3.0343899 ,  6.18008702,  2.96967977,  6.29004624,\n",
       "        1.47742143,  3.06921067,  4.5461013 ,  3.76617829,  2.29644355,\n",
       "        5.92708088,  2.96336741,  1.77422385,  4.37642845,  1.09857392,\n",
       "        4.14675884,  6.41028721,  1.42458057,  3.77806322,  0.91701449,\n",
       "        2.25431542, -0.66432042,  1.61732441,  3.72908674,  3.4227569 ])"
      ]
     },
     "execution_count": 6,
     "metadata": {},
     "output_type": "execute_result"
    }
   ],
   "source": [
    "np.random.normal(loc=3, scale=1.5, size=150)"
   ]
  },
  {
   "cell_type": "markdown",
   "metadata": {},
   "source": [
    "We can graph the results to show that they follow the normal distribution using a histogram."
   ]
  },
  {
   "cell_type": "code",
   "execution_count": 8,
   "metadata": {},
   "outputs": [
    {
     "data": {
      "text/plain": [
       "(array([ 2.,  3., 15., 22., 32., 35., 25.,  7.,  4.,  5.]),\n",
       " array([-0.58168241,  0.177083  ,  0.93584842,  1.69461383,  2.45337924,\n",
       "         3.21214466,  3.97091007,  4.72967548,  5.4884409 ,  6.24720631,\n",
       "         7.00597172]),\n",
       " <a list of 10 Patch objects>)"
      ]
     },
     "execution_count": 8,
     "metadata": {},
     "output_type": "execute_result"
    },
    {
     "data": {
      "image/png": "[encoded data removed]",
      "text/plain": [
       "<Figure size 432x288 with 1 Axes>"
      ]
     },
     "metadata": {
      "needs_background": "light"
     },
     "output_type": "display_data"
    }
   ],
   "source": [
    "import matplotlib.pyplot as plt\n",
    "\n",
    "r = np.random.normal(loc=3, scale=1.5, size=150)\n",
    "plt.hist(r)"
   ]
  },
  {
   "cell_type": "markdown",
   "metadata": {},
   "source": [
    "This graph might not look exactly like the normal distribution since we have a small sample size, but try it again generating 1000 numbers and look at the plot. Does this look more as you expected?\n",
    "\n",
    ">###Note: You can add a vertical line at the mean to make sure it is distributed around your given mean value. Make this line orange!"
   ]
  },
  {
   "cell_type": "code",
   "execution_count": 12,
   "metadata": {},
   "outputs": [
    {
     "data": {
      "text/plain": [
       "<matplotlib.lines.Line2D at 0x7f447da08240>"
      ]
     },
     "execution_count": 12,
     "metadata": {},
     "output_type": "execute_result"
    },
    {
     "data": {
      "image/png": "[encoded data removed]",
      "text/plain": [
       "<Figure size 432x288 with 1 Axes>"
      ]
     },
     "metadata": {
      "needs_background": "light"
     },
     "output_type": "display_data"
    }
   ],
   "source": [
    "r = np.random.normal(loc=3, scale=1.5, size=1000)\n",
    "plt.hist(r)\n",
    "plt.axvline(x=3, color=\"orange\")"
   ]
  },
  {
   "cell_type": "markdown",
   "metadata": {},
   "source": [
    "## Calculating Z-scores\n",
    "\n",
    "A z-score, which is a type of standard score, is the number of standard deviations a data point is from the mean.\n",
    "The z-score is calculated using basic subtraction and division, and is very straightforward in Python.\n",
    "\n",
    "Let's assume the mean population size for monkeys is 150 individuals. The standard deviation of the population size is 20 monkeys.\n",
    "\n",
    "In a new location you find 200 individual monkeys. What is the z-score?"
   ]
  },
  {
   "cell_type": "code",
   "execution_count": 13,
   "metadata": {},
   "outputs": [],
   "source": [
    "z = (200-150)/20"
   ]
  },
  {
   "cell_type": "markdown",
   "metadata": {},
   "source": [
    "Now, assuming you find 25 individuals in your new location. What is the z-score?"
   ]
  },
  {
   "cell_type": "code",
   "execution_count": 14,
   "metadata": {},
   "outputs": [],
   "source": [
    "z = (25-150)/20"
   ]
  },
  {
   "cell_type": "markdown",
   "metadata": {},
   "source": [
    ">###Note: The parantheses are necessary in this equation to get the correct z-score - what happens if you remove them?"
   ]
  },
  {
   "cell_type": "markdown",
   "metadata": {},
   "source": [
    "## Problem Set\n",
    "\n",
    "1. Generate 1500 random numbers under the standard normal distribution. What is the mean and standard deviation of the standard normal distribution?\n",
    "\n",
    "2. Generate 10,000 random numbers with a mean of 5 and a standard deviation of 1. \n",
    "\n",
    "3. Plot the generated data from question 2 as a histogram and add a vertical line at the mean in blue.\n",
    "\n",
    "4. The mean tree height for longleaf pine trees in Ocala National Forest is 32 meters. The standard deviation of heights is 2 meters. What is the z-score for an individual tree that is 20 meters tall.\n",
    "\n",
    "5. What is the z-score for an individual tree that is 50 meters high?"
   ]
  },
  {
   "cell_type": "code",
   "execution_count": 16,
   "metadata": {},
   "outputs": [
    {
     "data": {
      "image/png": "[encoded data removed]",
      "text/plain": [
       "<Figure size 432x288 with 1 Axes>"
      ]
     },
     "metadata": {
      "needs_background": "light"
     },
     "output_type": "display_data"
    }
   ],
   "source": [
    "np.random.normal(size=1500)\n",
    "#mean(loc) = 0, sd(scale) = 1\n",
    "\n",
    "np.random.normal(size=10000, loc=5, scale=1)\n",
    "\n",
    "r = np.random.normal(size=10000, loc=5, scale=1)\n",
    "plt.hist(r)\n",
    "plt.axvline(x=5, color=\"orange\")\n",
    "\n",
    "z = (20-32)/2\n",
    "\n",
    "z = (50-32)/2"
   ]
  }
 ],
 "metadata": {
  "kernelspec": {
   "display_name": "Python 3",
   "language": "python",
   "name": "python3"
  },
  "language_info": {
   "codemirror_mode": {
    "name": "ipython",
    "version": 3
   },
   "file_extension": ".py",
   "mimetype": "text/x-python",
   "name": "python",
   "nbconvert_exporter": "python",
   "pygments_lexer": "ipython3",
   "version": "3.7.0"
  }
 },
 "nbformat": 4,
 "nbformat_minor": 2
}

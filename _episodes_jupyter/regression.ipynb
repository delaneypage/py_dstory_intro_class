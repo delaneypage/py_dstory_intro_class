{
 "cells": [
  {
   "cell_type": "markdown",
   "metadata": {},
   "source": [
    "# Regression (Instructional Worksheet)\n",
    "\n",
    "## Regression Line or Best Fit Line\n",
    "\n",
    "We will run a linear model, or linear regression, to model the relationship between the dependent and independent variables of interest. Using the *iris* dataset from the last module, we are interested in whether or not we can use the petal length to estimate the petal width for an iris. \n",
    "\n",
    "We know that the equation for a line is:\n",
    "$$Y = bX + a$$  \n",
    "\n",
    "In our situation, Y is the petal width, or the independent variable, and X is petal length or the dependent variable. *b* is the slope of the line and *a* is the intercept.\n",
    "\n",
    "In Python, we will create a linear model, and then look at the summary of the model output, which will give us the equation for the line. We can then plot the best fit line, or regression line on our scatterplot.\n",
    "\n",
    "We will use the *lm()* function to create our linear model, and then the *summary()* function to look at the results. We will then use the *abline()* function to plot the best fit line."
   ]
  },
  {
   "cell_type": "code",
   "execution_count": 1,
   "metadata": {},
   "outputs": [],
   "source": [
    "import numpy as np\n",
    "import statsmodels.api as sm\n",
    "import pandas as pd"
   ]
  },
  {
   "cell_type": "code",
   "execution_count": 2,
   "metadata": {},
   "outputs": [],
   "source": [
    "iris = pd.read_csv('../data/iris.csv')"
   ]
  },
  {
   "cell_type": "code",
   "execution_count": 3,
   "metadata": {},
   "outputs": [
    {
     "name": "stdout",
     "output_type": "stream",
     "text": [
      "                            OLS Regression Results                            \n",
      "==============================================================================\n",
      "Dep. Variable:            Petal.Width   R-squared:                       0.927\n",
      "Model:                            OLS   Adj. R-squared:                  0.927\n",
      "Method:                 Least Squares   F-statistic:                     1882.\n",
      "Date:                Mon, 03 Dec 2018   Prob (F-statistic):           4.68e-86\n",
      "Time:                        06:39:22   Log-Likelihood:                 24.796\n",
      "No. Observations:                 150   AIC:                            -45.59\n",
      "Df Residuals:                     148   BIC:                            -39.57\n",
      "Df Model:                           1                                         \n",
      "Covariance Type:            nonrobust                                         \n",
      "================================================================================\n",
      "                   coef    std err          t      P>|t|      [0.025      0.975]\n",
      "--------------------------------------------------------------------------------\n",
      "const           -0.3631      0.040     -9.131      0.000      -0.442      -0.285\n",
      "Petal.Length     0.4158      0.010     43.387      0.000       0.397       0.435\n",
      "==============================================================================\n",
      "Omnibus:                        5.765   Durbin-Watson:                   1.455\n",
      "Prob(Omnibus):                  0.056   Jarque-Bera (JB):                5.555\n",
      "Skew:                           0.359   Prob(JB):                       0.0622\n",
      "Kurtosis:                       3.611   Cond. No.                         10.3\n",
      "==============================================================================\n",
      "\n",
      "Warnings:\n",
      "[1] Standard Errors assume that the covariance matrix of the errors is correctly specified.\n"
     ]
    }
   ],
   "source": [
    "y = iris['Petal.Width']\n",
    "x = iris['Petal.Length']\n",
    "x = sm.add_constant(x)\n",
    "m = sm.OLS(y,x)\n",
    "fit = m.fit()\n",
    "print(fit.summary())"
   ]
  },
  {
   "cell_type": "markdown",
   "metadata": {},
   "source": [
    "Looking at the results, we can see that the intercept, _a_, is $-0.363$, and the slope, *b*, is $0.416$. Therefore our equation is:\n",
    "$$Y = 0.416X - 0.363$$\n",
    "\n",
    "Now, let's create our scatterplot, and then add this line to our plot."
   ]
  },
  {
   "cell_type": "code",
   "execution_count": 4,
   "metadata": {},
   "outputs": [
    {
     "data": {
      "text/plain": [
       "const          -0.363076\n",
       "Petal.Length    0.415755\n",
       "dtype: float64"
      ]
     },
     "execution_count": 4,
     "metadata": {},
     "output_type": "execute_result"
    }
   ],
   "source": [
    "fit.params"
   ]
  },
  {
   "cell_type": "code",
   "execution_count": 5,
   "metadata": {},
   "outputs": [],
   "source": [
    "def abline(slope, intercept, **kwargs):\n",
    "    \"\"\"Plot a line from slope and intercept\"\"\"\n",
    "    axes = plt.gca()\n",
    "    x_vals = np.array(axes.get_xlim())\n",
    "    y_vals = intercept + slope * x_vals\n",
    "    plt.plot(x_vals, y_vals, '-', **kwargs)"
   ]
  },
  {
   "cell_type": "code",
   "execution_count": 6,
   "metadata": {},
   "outputs": [
    {
     "data": {
      "image/png": "[encoded data removed]",
      "text/plain": [
       "<Figure size 432x288 with 1 Axes>"
      ]
     },
     "metadata": {
      "needs_background": "light"
     },
     "output_type": "display_data"
    }
   ],
   "source": [
    "import matplotlib.pyplot as plt\n",
    "\n",
    "plt.scatter(iris['Petal.Length'], iris['Petal.Width'])\n",
    "abline(fit.params['Petal.Length'], fit.params['const'])"
   ]
  },
  {
   "cell_type": "markdown",
   "metadata": {},
   "source": [
    "You can see that the *abline()* function adds the best fit line to the scatterplot. \n",
    "\n",
    "## Prediction\n",
    "Now, that we have a linear model with the relationship between petal length and petal width, we can use the equation to predict petal width given set values of petal length.\n",
    "\n",
    "For example, if we have a petal length value of 1 cm, using the prediction equation, what will the petal width be?\n",
    "Recall that m is the name of the linear model that you created above."
   ]
  },
  {
   "cell_type": "code",
   "execution_count": 7,
   "metadata": {},
   "outputs": [
    {
     "name": "stdout",
     "output_type": "stream",
     "text": [
      "0    0.05268\n",
      "dtype: float64\n"
     ]
    }
   ],
   "source": [
    "new_data = pd.DataFrame({\"const\": [1],\n",
    "                         \"Petal.Length\": [1]})\n",
    "print(fit.predict(new_data))"
   ]
  },
  {
   "cell_type": "markdown",
   "metadata": {},
   "source": [
    "So if we have a petal length of 1 cm, we predict that the petal widtch will be 0.05 cm. \n",
    "\n",
    "If we are interested in a group of values for petal length, we can use the same function to estimate petal with for multiple values."
   ]
  },
  {
   "cell_type": "code",
   "execution_count": 8,
   "metadata": {},
   "outputs": [
    {
     "name": "stdout",
     "output_type": "stream",
     "text": [
      "0    0.052680\n",
      "1    0.468435\n",
      "2    0.884191\n",
      "3    1.299946\n",
      "4    1.715702\n",
      "dtype: float64\n"
     ]
    }
   ],
   "source": [
    "new_data = pd.DataFrame({\"const\": [1]*5,\n",
    "                         \"Petal.Length\": [1,2,3,4,5]})\n",
    "print(fit.predict(new_data))"
   ]
  },
  {
   "cell_type": "markdown",
   "metadata": {},
   "source": [
    "The results now show us petal width for iris' with a petal length of 1, 2, 3, 4, or 5 cm. \n",
    "\n",
    "## Standard Error of Prediction\n",
    "Once, we know the correlation between two variables (as we learned in the last module), it is easy to use the following formula to calculate the standard error of prediction.\n",
    "\n",
    "$$s_{YX} = s_Y*sqrt(1-r^2_{XY})$$\n",
    "$s_{YX}$ is the standard error of prediction\n",
    "$s_Y$ is the standard deviation of variable Y (independent variable)\n",
    "$r^2_{XY}$ is the correlation between the variables X and Y"
   ]
  },
  {
   "cell_type": "code",
   "execution_count": 16,
   "metadata": {},
   "outputs": [
    {
     "data": {
      "text/html": [
       "<div>\n",
       "<style scoped>\n",
       "    .dataframe tbody tr th:only-of-type {\n",
       "        vertical-align: middle;\n",
       "    }\n",
       "\n",
       "    .dataframe tbody tr th {\n",
       "        vertical-align: top;\n",
       "    }\n",
       "\n",
       "    .dataframe thead th {\n",
       "        text-align: right;\n",
       "    }\n",
       "</style>\n",
       "<table border=\"1\" class=\"dataframe\">\n",
       "  <thead>\n",
       "    <tr style=\"text-align: right;\">\n",
       "      <th></th>\n",
       "      <th>Petal.Length</th>\n",
       "      <th>Petal.Width</th>\n",
       "    </tr>\n",
       "  </thead>\n",
       "  <tbody>\n",
       "    <tr>\n",
       "      <th>Petal.Length</th>\n",
       "      <td>1.000000</td>\n",
       "      <td>0.962865</td>\n",
       "    </tr>\n",
       "    <tr>\n",
       "      <th>Petal.Width</th>\n",
       "      <td>0.962865</td>\n",
       "      <td>1.000000</td>\n",
       "    </tr>\n",
       "  </tbody>\n",
       "</table>\n",
       "</div>"
      ],
      "text/plain": [
       "              Petal.Length  Petal.Width\n",
       "Petal.Length      1.000000     0.962865\n",
       "Petal.Width       0.962865     1.000000"
      ]
     },
     "execution_count": 16,
     "metadata": {},
     "output_type": "execute_result"
    }
   ],
   "source": [
    "iris[['Petal.Length','Petal.Width']].corr()"
   ]
  },
  {
   "cell_type": "code",
   "execution_count": 26,
   "metadata": {},
   "outputs": [
    {
     "data": {
      "text/plain": [
       "(0.9628654314027961, 4.675003907327543e-86)"
      ]
     },
     "execution_count": 26,
     "metadata": {},
     "output_type": "execute_result"
    }
   ],
   "source": [
    "from scipy import stats\n",
    "import math\n",
    "stats.pearsonr(iris['Petal.Length'], iris['Petal.Width'])"
   ]
  },
  {
   "cell_type": "code",
   "execution_count": 31,
   "metadata": {},
   "outputs": [
    {
     "data": {
      "text/plain": [
       "0.20579028191143472"
      ]
     },
     "execution_count": 31,
     "metadata": {},
     "output_type": "execute_result"
    }
   ],
   "source": [
    "cor_value = stats.pearsonr(iris['Petal.Length'], iris['Petal.Width'])[0]\n",
    "s_y = iris['Petal.Width'].std()\n",
    "s_yx = s_y*np.sqrt(1-(cor_value**2))\n",
    "s_yx"
   ]
  },
  {
   "cell_type": "markdown",
   "metadata": {},
   "source": [
    "We have a standard error of prediction of 0.206.\n",
    "\n",
    "## Problem Set\n",
    "\n",
    "1. Using the *trees* built-in dataset from the last module, we explored the correlation between black cherry tree height and volume. Let's us now create a linear model and add the best fit line to a scatterplot of these data.\n",
    "\n",
    "2. Predict the volume of a black cherry tree given a tree height of 60, 70, 80, and 90 feet. \n",
    "\n",
    "3. What is the standard error of prediction for the model you created in question 1?"
   ]
  },
  {
   "cell_type": "code",
   "execution_count": 32,
   "metadata": {},
   "outputs": [],
   "source": [
    "trees = pd.read_csv('../data/trees.csv')"
   ]
  },
  {
   "cell_type": "code",
   "execution_count": 37,
   "metadata": {},
   "outputs": [
    {
     "name": "stdout",
     "output_type": "stream",
     "text": [
      "                            OLS Regression Results                            \n",
      "==============================================================================\n",
      "Dep. Variable:                 Volume   R-squared:                       0.358\n",
      "Model:                            OLS   Adj. R-squared:                  0.336\n",
      "Method:                 Least Squares   F-statistic:                     16.16\n",
      "Date:                Mon, 03 Dec 2018   Prob (F-statistic):           0.000378\n",
      "Time:                        07:00:27   Log-Likelihood:                -123.40\n",
      "No. Observations:                  31   AIC:                             250.8\n",
      "Df Residuals:                      29   BIC:                             253.7\n",
      "Df Model:                           1                                         \n",
      "Covariance Type:            nonrobust                                         \n",
      "==============================================================================\n",
      "                 coef    std err          t      P>|t|      [0.025      0.975]\n",
      "------------------------------------------------------------------------------\n",
      "const        -87.1236     29.273     -2.976      0.006    -146.994     -27.253\n",
      "Height         1.5433      0.384      4.021      0.000       0.758       2.328\n",
      "==============================================================================\n",
      "Omnibus:                        1.994   Durbin-Watson:                   0.501\n",
      "Prob(Omnibus):                  0.369   Jarque-Bera (JB):                1.624\n",
      "Skew:                           0.406   Prob(JB):                        0.444\n",
      "Kurtosis:                       2.227   Cond. No.                         928.\n",
      "==============================================================================\n",
      "\n",
      "Warnings:\n",
      "[1] Standard Errors assume that the covariance matrix of the errors is correctly specified.\n"
     ]
    },
    {
     "data": {
      "image/png": "[encoded data removed]",
      "text/plain": [
       "<Figure size 432x288 with 1 Axes>"
      ]
     },
     "metadata": {
      "needs_background": "light"
     },
     "output_type": "display_data"
    }
   ],
   "source": [
    "y = trees['Volume']\n",
    "x = trees['Height']\n",
    "x = sm.add_constant(x)\n",
    "m = sm.OLS(y,x)\n",
    "fit = m.fit()\n",
    "print(fit.summary())\n",
    "trees.plot.scatter('Height', 'Volume')\n",
    "abline(fit.params['Height'], fit.params['const'])"
   ]
  },
  {
   "cell_type": "code",
   "execution_count": 40,
   "metadata": {},
   "outputs": [
    {
     "name": "stdout",
     "output_type": "stream",
     "text": [
      "0     5.477372\n",
      "1    20.910869\n",
      "2    36.344367\n",
      "3    51.777864\n",
      "dtype: float64\n"
     ]
    }
   ],
   "source": [
    "new_data = pd.DataFrame({\"const\": [1]*4,\n",
    "                         \"Height\": [60,70,80,90]})\n",
    "print(fit.predict(new_data))\n",
    "#trees of height 60 ft = volume 5.477\n",
    "#trees of height 70 ft = volume 20.911\n",
    "#trees of height 80 ft = volume 36.344\n",
    "#trees of height 90 ft = volume 51.778"
   ]
  },
  {
   "cell_type": "code",
   "execution_count": 42,
   "metadata": {},
   "outputs": [
    {
     "data": {
      "text/plain": [
       "13.171807018493034"
      ]
     },
     "execution_count": 42,
     "metadata": {},
     "output_type": "execute_result"
    }
   ],
   "source": [
    "cor_value = stats.pearsonr(trees['Height'], trees['Volume'])[0]\n",
    "s_y = trees['Volume'].std()\n",
    "s_yx = s_y*np.sqrt(1-(cor_value**2))\n",
    "s_yx\n",
    "#standard error of prediction 13.1718"
   ]
  }
 ],
 "metadata": {
  "kernelspec": {
   "display_name": "Python 3",
   "language": "python",
   "name": "python3"
  },
  "language_info": {
   "codemirror_mode": {
    "name": "ipython",
    "version": 3
   },
   "file_extension": ".py",
   "mimetype": "text/x-python",
   "name": "python",
   "nbconvert_exporter": "python",
   "pygments_lexer": "ipython3",
   "version": "3.7.0"
  }
 },
 "nbformat": 4,
 "nbformat_minor": 2
}

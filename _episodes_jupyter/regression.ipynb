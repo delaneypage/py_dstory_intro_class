{
 "cells": [
  {
   "cell_type": "markdown",
   "metadata": {},
   "source": [
    "# Regression (Instructional Worksheet)\n",
    "\n",
    "## Regression Line or Best Fit Line\n",
    "\n",
    "We will run a linear model, or linear regression, to model the relationship between the dependent and independent variables of interest. Using the *iris* dataset from the last module, we are interested in whether or not we can use the petal length to estimate the petal width for an iris. \n",
    "\n",
    "We know that the equation for a line is:\n",
    "$$Y = bX + a$$  \n",
    "\n",
    "In our situation, Y is the petal width, or the independent variable, and X is petal length or the dependent variable. *b* is the slope of the line and *a* is the intercept.\n",
    "\n",
    "In Python, we will create a linear model, and then look at the summary of the model output, which will give us the equation for the line. We can then plot the best fit line, or regression line on our scatterplot.\n",
    "\n",
    "We will use the *lm()* function to create our linear model, and then the *summary()* function to look at the results. We will then use the *abline()* function to plot the best fit line."
   ]
  },
  {
   "cell_type": "code",
   "execution_count": 2,
   "metadata": {},
   "outputs": [],
   "source": [
    "import numpy as np\n",
    "import statsmodels.api as sm\n",
    "import pandas as pd"
   ]
  },
  {
   "cell_type": "code",
   "execution_count": 3,
   "metadata": {},
   "outputs": [],
   "source": [
    "iris = pd.read_csv('../data/iris.csv')"
   ]
  },
  {
   "cell_type": "code",
   "execution_count": 20,
   "metadata": {},
   "outputs": [
    {
     "name": "stdout",
     "output_type": "stream",
     "text": [
      "                            OLS Regression Results                            \n",
      "==============================================================================\n",
      "Dep. Variable:            Petal.Width   R-squared:                       0.927\n",
      "Model:                            OLS   Adj. R-squared:                  0.927\n",
      "Method:                 Least Squares   F-statistic:                     1882.\n",
      "Date:                Tue, 27 Nov 2018   Prob (F-statistic):           4.68e-86\n",
      "Time:                        19:33:19   Log-Likelihood:                 24.796\n",
      "No. Observations:                 150   AIC:                            -45.59\n",
      "Df Residuals:                     148   BIC:                            -39.57\n",
      "Df Model:                           1                                         \n",
      "Covariance Type:            nonrobust                                         \n",
      "================================================================================\n",
      "                   coef    std err          t      P>|t|      [0.025      0.975]\n",
      "--------------------------------------------------------------------------------\n",
      "const           -0.3631      0.040     -9.131      0.000      -0.442      -0.285\n",
      "Petal.Length     0.4158      0.010     43.387      0.000       0.397       0.435\n",
      "==============================================================================\n",
      "Omnibus:                        5.765   Durbin-Watson:                   1.455\n",
      "Prob(Omnibus):                  0.056   Jarque-Bera (JB):                5.555\n",
      "Skew:                           0.359   Prob(JB):                       0.0622\n",
      "Kurtosis:                       3.611   Cond. No.                         10.3\n",
      "==============================================================================\n",
      "\n",
      "Warnings:\n",
      "[1] Standard Errors assume that the covariance matrix of the errors is correctly specified.\n"
     ]
    }
   ],
   "source": [
    "y = iris['Petal.Width']\n",
    "x = iris['Petal.Length']\n",
    "x = sm.add_constant(x)\n",
    "m = sm.OLS(y,x)\n",
    "fit = m.fit()\n",
    "print(fit.summary())"
   ]
  },
  {
   "cell_type": "markdown",
   "metadata": {},
   "source": [
    "Looking at the results, we can see that the intercept, _a_, is $-0.363$, and the slope, *b*, is $0.416$. Therefore our equation is:\n",
    "$$Y = 0.416X - 0.363$$\n",
    "\n",
    "Now, let's create our scatterplot, and then add this line to our plot."
   ]
  },
  {
   "cell_type": "code",
   "execution_count": 39,
   "metadata": {},
   "outputs": [
    {
     "data": {
      "text/plain": [
       "const          -0.363076\n",
       "Petal.Length    0.415755\n",
       "dtype: float64"
      ]
     },
     "execution_count": 39,
     "metadata": {},
     "output_type": "execute_result"
    }
   ],
   "source": [
    "fit.params"
   ]
  },
  {
   "cell_type": "code",
   "execution_count": 55,
   "metadata": {},
   "outputs": [],
   "source": [
    "def abline(slope, intercept, **kwargs):\n",
    "    \"\"\"Plot a line from slope and intercept\"\"\"\n",
    "    axes = plt.gca()\n",
    "    x_vals = np.array(axes.get_xlim())\n",
    "    y_vals = intercept + slope * x_vals\n",
    "    plt.plot(x_vals, y_vals, '-', **kwargs)"
   ]
  },
  {
   "cell_type": "code",
   "execution_count": 57,
   "metadata": {},
   "outputs": [
    {
     "data": {
      "image/png": "[encoded data removed]",
      "text/plain": [
       "<Figure size 432x288 with 1 Axes>"
      ]
     },
     "metadata": {
      "needs_background": "light"
     },
     "output_type": "display_data"
    }
   ],
   "source": [
    "import matplotlib.pyplot as plt\n",
    "\n",
    "plt.scatter(iris['Petal.Length'], iris['Petal.Width'])\n",
    "abline(fit.params['Petal.Length'], fit.params['const'])"
   ]
  },
  {
   "cell_type": "markdown",
   "metadata": {},
   "source": [
    "You can see that the *abline()* function adds the best fit line to the scatterplot. \n",
    "\n",
    "## Prediction\n",
    "Now, that we have a linear model with the relationship between petal length and petal width, we can use the equation to predict petal width given set values of petal length.\n",
    "\n",
    "For example, if we have a petal length value of 1 cm, using the prediction equation, what will the petal width be?\n",
    "Recall that m is the name of the linear model that you created above."
   ]
  },
  {
   "cell_type": "code",
   "execution_count": 78,
   "metadata": {},
   "outputs": [
    {
     "name": "stdout",
     "output_type": "stream",
     "text": [
      "0    0.05268\n",
      "dtype: float64\n"
     ]
    }
   ],
   "source": [
    "new_data = pd.DataFrame({\"const\": [1],\n",
    "                         \"Petal.Length\": [1]})\n",
    "print(fit.predict(new_data))"
   ]
  },
  {
   "cell_type": "markdown",
   "metadata": {},
   "source": [
    "So if we have a petal length of 1 cm, we predict that the petal widtch will be 0.05 cm. \n",
    "\n",
    "If we are interested in a group of values for petal length, we can use the same function to estimate petal with for multiple values."
   ]
  },
  {
   "cell_type": "code",
   "execution_count": 81,
   "metadata": {},
   "outputs": [
    {
     "name": "stdout",
     "output_type": "stream",
     "text": [
      "0    0.052680\n",
      "1    0.468435\n",
      "2    0.884191\n",
      "3    1.299946\n",
      "4    1.715702\n",
      "dtype: float64\n"
     ]
    }
   ],
   "source": [
    "new_data = pd.DataFrame({\"const\": [1]*5,\n",
    "                         \"Petal.Length\": [1,2,3,4,5]})\n",
    "print(fit.predict(new_data))"
   ]
  },
  {
   "cell_type": "markdown",
   "metadata": {},
   "source": [
    "The results now show us petal width for iris' with a petal length of 1, 2, 3, 4, or 5 cm. \n",
    "\n",
    "## Standard Error of Prediction\n",
    "Once, we know the correlation between two variables (as we learned in the last module), it is easy to use the following formula to calculate the standard error of prediction.\n",
    "\n",
    "$$s_{YX} = s_Y*sqrt(1-r^2_{XY})$$\n",
    "$s_{YX}$ is the standard error of prediction\n",
    "$s_Y$ is the standard deviation of variable Y (independent variable)\n",
    "$r^2_{XY}$ is the correlation between the variables X and Y"
   ]
  },
  {
   "cell_type": "code",
   "execution_count": null,
   "metadata": {},
   "outputs": [],
   "source": []
  }
 ],
 "metadata": {
  "kernelspec": {
   "display_name": "Python 3",
   "language": "python",
   "name": "python3"
  },
  "language_info": {
   "codemirror_mode": {
    "name": "ipython",
    "version": 3
   },
   "file_extension": ".py",
   "mimetype": "text/x-python",
   "name": "python",
   "nbconvert_exporter": "python",
   "pygments_lexer": "ipython3",
   "version": "3.7.0"
  }
 },
 "nbformat": 4,
 "nbformat_minor": 2
}

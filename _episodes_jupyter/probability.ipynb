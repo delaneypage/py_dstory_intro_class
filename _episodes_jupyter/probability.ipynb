{
 "cells": [
  {
   "cell_type": "markdown",
   "metadata": {},
   "source": [
    "# Probability (Instructional Worksheet)\n",
    "\n",
    "## Sampling in Python\n",
    "\n",
    "In Python, we can sample from a set with or without replacement with equal or unequal probabilties.\n",
    "\n",
    "For example, suppose we roll a dice - the possible outcome for one roll is a number between 1 and 6. \n",
    "First, let's create a vector of the numbers 1 through 6."
   ]
  },
  {
   "cell_type": "code",
   "execution_count": 12,
   "metadata": {},
   "outputs": [
    {
     "data": {
      "text/plain": [
       "[1, 2, 3, 4, 5, 6]"
      ]
     },
     "execution_count": 12,
     "metadata": {},
     "output_type": "execute_result"
    }
   ],
   "source": [
    "x = list(range(1,7))\n",
    "x"
   ]
  },
  {
   "cell_type": "markdown",
   "metadata": {},
   "source": [
    "Next, let's choose 5 numbers without replacement using the *sample()* command. In this command, we need to have a set of available outcomes, the number of samples to choose, and then we need to designate whether to sample with or without replacement."
   ]
  },
  {
   "cell_type": "code",
   "execution_count": 22,
   "metadata": {},
   "outputs": [
    {
     "data": {
      "text/plain": [
       "array([1, 6, 4, 5, 2])"
      ]
     },
     "execution_count": 22,
     "metadata": {},
     "output_type": "execute_result"
    }
   ],
   "source": [
    "import numpy as np\n",
    "\n",
    "np.random.choice(x, 5, replace=False)"
   ]
  },
  {
   "cell_type": "markdown",
   "metadata": {},
   "source": [
    "Now, let's again choose 5 numbers but now with replacement."
   ]
  },
  {
   "cell_type": "code",
   "execution_count": 23,
   "metadata": {},
   "outputs": [
    {
     "data": {
      "text/plain": [
       "array([1, 1, 2, 6, 1])"
      ]
     },
     "execution_count": 23,
     "metadata": {},
     "output_type": "execute_result"
    }
   ],
   "source": [
    "np.random.choice(x, 5, replace=True)"
   ]
  },
  {
   "cell_type": "markdown",
   "metadata": {},
   "source": [
    ">###Note: When sampling without replacement, each number in the outcome set can only be choosen once, but when sampling with replacement each number can be choosen multiple times.\n",
    "\n",
    "In the above examples, we are using equal probability, so each outcome in the set is equally likely to be choosen. Let's now change the probability so 1 has a 50% chance of being chosen. Sample 10 numbers."
   ]
  },
  {
   "cell_type": "code",
   "execution_count": 24,
   "metadata": {},
   "outputs": [
    {
     "data": {
      "text/plain": [
       "array([6, 5, 1, 1, 6])"
      ]
     },
     "execution_count": 24,
     "metadata": {},
     "output_type": "execute_result"
    }
   ],
   "source": [
    "np.random.choice(x, 5, replace=True, p=[1/2,1/10,1/10,1/10,1/10,1/10])"
   ]
  },
  {
   "cell_type": "markdown",
   "metadata": {},
   "source": [
    ">###Note: Because we are only choosing 10 numbers (small sample size), we will not necessarily get 5 1's and 1 of each of the other numbers 2-6. However, as sample size increases you will get closer and closer to these given probabilities. "
   ]
  },
  {
   "cell_type": "markdown",
   "metadata": {},
   "source": [
    "## Binomial Distribution\n",
    "\n",
    "Like in the previous module, we can generate random numbers from the binomial distribution in Python. Remember, in the binomial distribution there are 2 possible outcomes, such as heads or tails when flipping a coin.\n",
    "\n",
    "We can use the *rbinom()* command. We need to decide the number of observations, the number of trails, and the probability of success on each trial.\n",
    "\n",
    "For example, I want 5 observations based on 10 trails with a probability of success of 0.5"
   ]
  },
  {
   "cell_type": "code",
   "execution_count": 26,
   "metadata": {},
   "outputs": [
    {
     "data": {
      "text/plain": [
       "array([4, 8, 4, 5, 4])"
      ]
     },
     "execution_count": 26,
     "metadata": {},
     "output_type": "execute_result"
    }
   ],
   "source": [
    "np.random.binomial(10, 0.5, 5)"
   ]
  },
  {
   "cell_type": "markdown",
   "metadata": {},
   "source": [
    "You'll notice that there are 5 numbers in the results. Each of these is the number of successes out of 10 trials. \n",
    "\n",
    ">###Note: If you increase the number of trials and/or the number of observations, you'll get closer and closer to the given probability. "
   ]
  }
 ],
 "metadata": {
  "kernelspec": {
   "display_name": "Python 3",
   "language": "python",
   "name": "python3"
  },
  "language_info": {
   "codemirror_mode": {
    "name": "ipython",
    "version": 3
   },
   "file_extension": ".py",
   "mimetype": "text/x-python",
   "name": "python",
   "nbconvert_exporter": "python",
   "pygments_lexer": "ipython3",
   "version": "3.7.0"
  }
 },
 "nbformat": 4,
 "nbformat_minor": 2
}

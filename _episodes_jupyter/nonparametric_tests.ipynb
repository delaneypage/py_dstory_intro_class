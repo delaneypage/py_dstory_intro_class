{
 "cells": [
  {
   "cell_type": "markdown",
   "metadata": {},
   "source": [
    "# Non-Parametric Statistics: Chi-Square (Instructional Worksheet)\n",
    "\n",
    "## One Variable Chi-Square: Goodness of Fit\n",
    "\n",
    "Goal: Compare categorical data with a theoretical distribution\n",
    "We want to test the following 2 hypotheses:\n",
    "(1) data follows the theoretical distribution\n",
    "(2) data does not follow the theoretical distribution\n",
    "\n",
    "Suppose we have a yard full of flowers, we count and there are 705 red flowers and 224 white flowers. The expected proportion is 3/4 red flowers and 1/4 white flowers. Let's run a one variable chi-square test to see if the flowers in our yard follow the expected proportions or not. "
   ]
  },
  {
   "cell_type": "code",
   "execution_count": 1,
   "metadata": {},
   "outputs": [],
   "source": [
    "import pandas as pd\n",
    "from scipy import stats"
   ]
  },
  {
   "cell_type": "code",
   "execution_count": 2,
   "metadata": {},
   "outputs": [],
   "source": [
    "flower = pd.DataFrame(\n",
    "    {'color': ['red', 'white'],\n",
    "     'freq' : [705, 224]})\n",
    "\n"
   ]
  },
  {
   "cell_type": "code",
   "execution_count": 3,
   "metadata": {},
   "outputs": [
    {
     "data": {
      "text/html": [
       "<div>\n",
       "<style scoped>\n",
       "    .dataframe tbody tr th:only-of-type {\n",
       "        vertical-align: middle;\n",
       "    }\n",
       "\n",
       "    .dataframe tbody tr th {\n",
       "        vertical-align: top;\n",
       "    }\n",
       "\n",
       "    .dataframe thead th {\n",
       "        text-align: right;\n",
       "    }\n",
       "</style>\n",
       "<table border=\"1\" class=\"dataframe\">\n",
       "  <thead>\n",
       "    <tr style=\"text-align: right;\">\n",
       "      <th></th>\n",
       "      <th>color</th>\n",
       "      <th>freq</th>\n",
       "    </tr>\n",
       "  </thead>\n",
       "  <tbody>\n",
       "    <tr>\n",
       "      <th>0</th>\n",
       "      <td>red</td>\n",
       "      <td>705</td>\n",
       "    </tr>\n",
       "    <tr>\n",
       "      <th>1</th>\n",
       "      <td>white</td>\n",
       "      <td>224</td>\n",
       "    </tr>\n",
       "  </tbody>\n",
       "</table>\n",
       "</div>"
      ],
      "text/plain": [
       "   color  freq\n",
       "0    red   705\n",
       "1  white   224"
      ]
     },
     "execution_count": 3,
     "metadata": {},
     "output_type": "execute_result"
    }
   ],
   "source": [
    "flower"
   ]
  },
  {
   "cell_type": "code",
   "execution_count": 11,
   "metadata": {},
   "outputs": [
    {
     "data": {
      "text/plain": [
       "Power_divergenceResult(statistic=0.3907427341227126, pvalue=0.5319092473839089)"
      ]
     },
     "execution_count": 11,
     "metadata": {},
     "output_type": "execute_result"
    }
   ],
   "source": [
    "# This function needs expected frequencies in each group\n",
    "# instead of percentage of expected frequencies.\n",
    "stats.chisquare(flower.freq, \n",
    "                [.75*flower.freq.sum(),\n",
    "                 .25*flower.freq.sum()])"
   ]
  },
  {
   "cell_type": "markdown",
   "metadata": {},
   "source": [
    "In the output, we have the Chi-square statitics, the degrees of freedom, and the p-value. Based on these results, we fail to reject the null hypothesis because the p-value is greater than 0.05. This means that the data follows the theoretical distribution (i.e., the data follows the expected proportions)."
   ]
  },
  {
   "cell_type": "markdown",
   "metadata": {},
   "source": [
    "## Two Variable Chi-Square: Test of Independence\n",
    "\n",
    "Goal: Determine whether or not two or more variables are related (i.e., not independent) We want to test the following 2 hypotheses: (1) variables are independent (2) variables are not independent\n",
    "\n",
    "Using our flower example from above, suppose that in addition to flower color, we also know whether or not the plant survived for the season. We are interested in whether or not survival is related to flower color. Therefore, our null hypothesis is that there is no relationship between flower color and plant survival, and our alternative hypothesis is that there is a relationship between flower color and plant survival."
   ]
  },
  {
   "cell_type": "code",
   "execution_count": 19,
   "metadata": {},
   "outputs": [
    {
     "data": {
      "text/html": [
       "<div>\n",
       "<style scoped>\n",
       "    .dataframe tbody tr th:only-of-type {\n",
       "        vertical-align: middle;\n",
       "    }\n",
       "\n",
       "    .dataframe tbody tr th {\n",
       "        vertical-align: top;\n",
       "    }\n",
       "\n",
       "    .dataframe thead th {\n",
       "        text-align: right;\n",
       "    }\n",
       "</style>\n",
       "<table border=\"1\" class=\"dataframe\">\n",
       "  <thead>\n",
       "    <tr style=\"text-align: right;\">\n",
       "      <th></th>\n",
       "      <th>freq</th>\n",
       "      <th>surv</th>\n",
       "    </tr>\n",
       "  </thead>\n",
       "  <tbody>\n",
       "    <tr>\n",
       "      <th>0</th>\n",
       "      <td>705</td>\n",
       "      <td>448</td>\n",
       "    </tr>\n",
       "    <tr>\n",
       "      <th>1</th>\n",
       "      <td>224</td>\n",
       "      <td>103</td>\n",
       "    </tr>\n",
       "  </tbody>\n",
       "</table>\n",
       "</div>"
      ],
      "text/plain": [
       "   freq  surv\n",
       "0   705   448\n",
       "1   224   103"
      ]
     },
     "execution_count": 19,
     "metadata": {},
     "output_type": "execute_result"
    }
   ],
   "source": [
    "flower['surv'] = [448,103]\n",
    "flower[['freq', 'surv']]"
   ]
  },
  {
   "cell_type": "code",
   "execution_count": 20,
   "metadata": {},
   "outputs": [
    {
     "data": {
      "text/plain": [
       "(5.58918333753006,\n",
       " 0.018071719777705584,\n",
       " 1,\n",
       " array([[723.74121622, 429.25878378],\n",
       "        [205.25878378, 121.74121622]]))"
      ]
     },
     "execution_count": 20,
     "metadata": {},
     "output_type": "execute_result"
    }
   ],
   "source": [
    "# If you press Shift-Tab on the chi2 function you will\n",
    "# see it what its return values are\n",
    "stats.chi2_contingency(flower[['freq', 'surv']])"
   ]
  },
  {
   "cell_type": "code",
   "execution_count": 24,
   "metadata": {},
   "outputs": [
    {
     "data": {
      "text/html": [
       "<div>\n",
       "<style scoped>\n",
       "    .dataframe tbody tr th:only-of-type {\n",
       "        vertical-align: middle;\n",
       "    }\n",
       "\n",
       "    .dataframe tbody tr th {\n",
       "        vertical-align: top;\n",
       "    }\n",
       "\n",
       "    .dataframe thead th {\n",
       "        text-align: right;\n",
       "    }\n",
       "</style>\n",
       "<table border=\"1\" class=\"dataframe\">\n",
       "  <thead>\n",
       "    <tr style=\"text-align: right;\">\n",
       "      <th></th>\n",
       "      <th>color</th>\n",
       "      <th>freq</th>\n",
       "      <th>surv</th>\n",
       "    </tr>\n",
       "  </thead>\n",
       "  <tbody>\n",
       "    <tr>\n",
       "      <th>0</th>\n",
       "      <td>red</td>\n",
       "      <td>705</td>\n",
       "      <td>448</td>\n",
       "    </tr>\n",
       "    <tr>\n",
       "      <th>1</th>\n",
       "      <td>white</td>\n",
       "      <td>224</td>\n",
       "      <td>103</td>\n",
       "    </tr>\n",
       "  </tbody>\n",
       "</table>\n",
       "</div>"
      ],
      "text/plain": [
       "   color  freq  surv\n",
       "0    red   705   448\n",
       "1  white   224   103"
      ]
     },
     "execution_count": 24,
     "metadata": {},
     "output_type": "execute_result"
    }
   ],
   "source": [
    "flower"
   ]
  },
  {
   "cell_type": "markdown",
   "metadata": {},
   "source": [
    "Looking at the results, we again are given the Chi-squared statistic (Chisq), the degrees of freedom (df), and the p-value. With a p-value of 0.01807, we reject our null hypothesis (i.e., support the alternative hypothesis). We can conclude that there is a relationship between flower color and plant survival.\n",
    "\n",
    "## Problem Set\n",
    "\n",
    "1. You are studying wild dog and hyenas in a national park in Africa. You complete surveys of the park and encounter 27 packs of wild dog and 43 packs of hyena. 10 years before you completed the same survey of the park and encountered 16 packs of wild dog and 44 packs of hyena. Does the current year survey encounters match the expected encounters based on the 10-year prior survey, or is there a difference between the observed and expected values? How do you know? (Hint: your expected values have to be probabilities - so make sure you take the number of animals of each type encountered divided by the total number of animals encountered)\n",
    "\n",
    "2. Suppose that during our survey, we also collected data on the number of prey species that was encountered for both wild dog and hyena. During the survey, we encountered 122 prey species for wild dog, and 201 prey species for hyena. Is the number of encounters of wild dog and hyena dependent on the number of prey species encountered (i.e., are the two variables independent)? How do you know?"
   ]
  },
  {
   "cell_type": "code",
   "execution_count": 21,
   "metadata": {},
   "outputs": [
    {
     "data": {
      "text/plain": [
       "Power_divergenceResult(statistic=5.073051948051946, pvalue=0.02430056331812505)"
      ]
     },
     "execution_count": 21,
     "metadata": {},
     "output_type": "execute_result"
    }
   ],
   "source": [
    "animal = pd.DataFrame({'animal': ['wildDog', 'hyena'],\n",
    "                       'freq'  : [27, 43]})\n",
    "\n",
    "stats.chisquare(animal.freq, \n",
    "                [16/60*animal.freq.sum(),\n",
    "                 44/60*animal.freq.sum()])\n",
    "# encounter rates in current survey are not the same as expected encounter rates from 10 years before\n",
    "# p-value 0.0243 - reject null hypothesis"
   ]
  },
  {
   "cell_type": "code",
   "execution_count": 22,
   "metadata": {},
   "outputs": [
    {
     "data": {
      "text/plain": [
       "(0.00011486277111559088,\n",
       " 0.9914489116752431,\n",
       " 1,\n",
       " array([[ 26.5394402, 122.4605598],\n",
       "        [ 43.4605598, 200.5394402]]))"
      ]
     },
     "execution_count": 22,
     "metadata": {},
     "output_type": "execute_result"
    }
   ],
   "source": [
    "animal['prey'] = [122, 201]\n",
    "stats.chi2_contingency(animal[['freq', 'prey']])\n",
    "#p-value 0.9914\n",
    "#the two variables are independent - fail to reject null hypothesis\n",
    "#the number of wild dog and hyena encountered was not dependent on the number of prey species"
   ]
  },
  {
   "cell_type": "code",
   "execution_count": 23,
   "metadata": {},
   "outputs": [
    {
     "data": {
      "text/html": [
       "<div>\n",
       "<style scoped>\n",
       "    .dataframe tbody tr th:only-of-type {\n",
       "        vertical-align: middle;\n",
       "    }\n",
       "\n",
       "    .dataframe tbody tr th {\n",
       "        vertical-align: top;\n",
       "    }\n",
       "\n",
       "    .dataframe thead th {\n",
       "        text-align: right;\n",
       "    }\n",
       "</style>\n",
       "<table border=\"1\" class=\"dataframe\">\n",
       "  <thead>\n",
       "    <tr style=\"text-align: right;\">\n",
       "      <th></th>\n",
       "      <th>animal</th>\n",
       "      <th>freq</th>\n",
       "      <th>prey</th>\n",
       "    </tr>\n",
       "  </thead>\n",
       "  <tbody>\n",
       "    <tr>\n",
       "      <th>0</th>\n",
       "      <td>wildDog</td>\n",
       "      <td>27</td>\n",
       "      <td>122</td>\n",
       "    </tr>\n",
       "    <tr>\n",
       "      <th>1</th>\n",
       "      <td>hyena</td>\n",
       "      <td>43</td>\n",
       "      <td>201</td>\n",
       "    </tr>\n",
       "  </tbody>\n",
       "</table>\n",
       "</div>"
      ],
      "text/plain": [
       "    animal  freq  prey\n",
       "0  wildDog    27   122\n",
       "1    hyena    43   201"
      ]
     },
     "execution_count": 23,
     "metadata": {},
     "output_type": "execute_result"
    }
   ],
   "source": [
    "animal"
   ]
  }
 ],
 "metadata": {
  "kernelspec": {
   "display_name": "Python 3",
   "language": "python",
   "name": "python3"
  },
  "language_info": {
   "codemirror_mode": {
    "name": "ipython",
    "version": 3
   },
   "file_extension": ".py",
   "mimetype": "text/x-python",
   "name": "python",
   "nbconvert_exporter": "python",
   "pygments_lexer": "ipython3",
   "version": "3.7.0"
  }
 },
 "nbformat": 4,
 "nbformat_minor": 2
}

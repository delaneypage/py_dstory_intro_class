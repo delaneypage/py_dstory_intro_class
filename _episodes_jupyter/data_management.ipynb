{
 "cells": [
  {
   "cell_type": "markdown",
   "metadata": {},
   "source": [
    "# Data Management in R (Instructional Worksheet)\n",
    "\n",
    "## Packages\n",
    "\n",
    "The functions in Python are organized in packages or libraries. Packages are install with the `pip` or `conda` commands in the terminal. Once installed then the `import` command is used in python to access the package. "
   ]
  },
  {
   "cell_type": "code",
   "execution_count": 1,
   "metadata": {},
   "outputs": [],
   "source": [
    "import pandas as pd   # Loads the pandas package and names it pd"
   ]
  },
  {
   "cell_type": "markdown",
   "metadata": {},
   "source": [
    "## Importing .CSV and .TXT files\n",
    "\n",
    "Python can import data stored in a wide variety of file types (including Excel files), but the file type you'll probably encounter most frequently has a .csv or .txt extension. The .csv extension stands for \"comma-separated values.\"\n",
    "\n",
    "> ### Note: A CSV file is recommended for R.\n",
    "\n",
    "A .txt file, on the other hand, is a simple text file created with a program like Notepad. Instead of commas, text files often use hidden characters, the tab and newline characters for example, to separate values.\n",
    "\n",
    "## Read Commands\n",
    "\n",
    "The following command can be typed into the console to import the data.\n",
    "\n",
    "For a CSV file:\n",
    "```\n",
    "data = pd.read_csv(\"data.csv\")\n",
    "```\n",
    "\n",
    "For a text file:\n",
    "```\n",
    "data = pd.read_table(\"data.txt\", sep=\" \")\n",
    "```\n",
    "\n",
    "The first argument is the file name (found within the working directory set earlier). \n",
    "\n",
    "The second argument, sep, refers to what is separating the values. A CSV uses commas, but a text document could use semicolons, colons, etc."
   ]
  },
  {
   "cell_type": "markdown",
   "metadata": {},
   "source": [
    "# Matrices and Data Frames\n",
    "\n",
    "## Matrices\n",
    "\n",
    "Matrices are two-dimensional, for example a 4 x 5 matrix has 4 rows and 5 columns. All values within the matrix must be of the same type, i.e., all numeric or all characters "
   ]
  },
  {
   "cell_type": "code",
   "execution_count": null,
   "metadata": {},
   "outputs": [],
   "source": []
  }
 ],
 "metadata": {
  "kernelspec": {
   "display_name": "Python 3",
   "language": "python",
   "name": "python3"
  },
  "language_info": {
   "codemirror_mode": {
    "name": "ipython",
    "version": 3
   },
   "file_extension": ".py",
   "mimetype": "text/x-python",
   "name": "python",
   "nbconvert_exporter": "python",
   "pygments_lexer": "ipython3",
   "version": "3.7.0"
  }
 },
 "nbformat": 4,
 "nbformat_minor": 2
}

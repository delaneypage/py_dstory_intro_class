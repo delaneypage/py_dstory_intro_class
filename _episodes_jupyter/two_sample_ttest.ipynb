{
 "cells": [
  {
   "cell_type": "markdown",
   "metadata": {},
   "source": [
    "# Two Sample Test (T-Test) (Instructional Worksheet)\n",
    "\n",
    "## Two Sample T-Test\n",
    "\n",
    "**Goal:** Compare the mean value of two independent samples ($\\mu_1$ and $\\mu_2$). \n",
    "\n",
    "We are interested in whether the following null or alternate hypotheses is supported by the data.\n",
    "\n",
    "$$H_0: \\mu_1 = \\mu_2$$\n",
    "$$H_1: \\mu_1 \\ne \\mu_2$$\n",
    "\n",
    "Because we are now interested in comparing the population mean of two samples, we will use a two sample t-test. For 2-sample t-tests we still use the *t.test()* function. \n",
    "Let's use the *ChickWeight* built-in dataset again that we have used in previous modules. Just to recap, this dataset gives us the weight of different chicks that were fed 4 different diets.\n",
    "\n",
    "This time we are interested in the different diet that the chicks were fed. Let's compare the mean weight of chicks on diet 1 versus diet 2."
   ]
  },
  {
   "cell_type": "code",
   "execution_count": 16,
   "metadata": {},
   "outputs": [],
   "source": [
    "import pandas as pd\n",
    "from scipy import stats\n",
    "import statsmodels.stats as sms\n",
    "\n",
    "ChickWeight = pd.read_csv('../data/ChickWeight.csv')"
   ]
  },
  {
   "cell_type": "code",
   "execution_count": 17,
   "metadata": {},
   "outputs": [
    {
     "name": "stdout",
     "output_type": "stream",
     "text": [
      "102.64545454545454 122.61666666666666\n"
     ]
    },
    {
     "data": {
      "text/plain": [
       "(-2.6378338635729652, 0.008995383023243087, 201.38394730819803)"
      ]
     },
     "execution_count": 17,
     "metadata": {},
     "output_type": "execute_result"
    }
   ],
   "source": [
    "print(ChickWeight[ChickWeight.Diet==1].weight.mean(),\n",
    "      ChickWeight[ChickWeight.Diet==2].weight.mean())\n",
    "sms.weightstats.ttest_ind(ChickWeight[ChickWeight.Diet==1].weight,\n",
    "                          ChickWeight[ChickWeight.Diet==2].weight,\n",
    "                          usevar='unequal') # Determines its Welches Test"
   ]
  },
  {
   "cell_type": "markdown",
   "metadata": {},
   "source": [
    "Looking at the output of the t-test, we can see the true mean weight for chicks on diet 1 is 103 grams, while the true mean weight for chicks on diet 2 is 123 grams. The p-value for our test is 0.008995, which is less than 0.05 - therefore, we reject the null hypothesis and support the alternate hypothesis. The mean weight for chicks on diet 1 and 2 is significantly different. Lastly, the 95% percent confidence interval is the based around the difference in means between the two samples. Like in the 1-sample t-test we can add the conf.level argument in our function to get a different confidence interval (e.g. 99%). \n",
    "\n",
    "If we were instead interested in whether the mean weight for diet 1 was greater or less than the mean weight for diet 2 instead of not equal to, we could run the two seperate tests like in the last module."
   ]
  },
  {
   "cell_type": "code",
   "execution_count": 12,
   "metadata": {},
   "outputs": [
    {
     "name": "stdout",
     "output_type": "stream",
     "text": [
      "102.64545454545454 122.61666666666666\n"
     ]
    },
    {
     "data": {
      "text/plain": [
       "(-2.6378338635729652, 0.004497691511621544, 201.38394730819803)"
      ]
     },
     "execution_count": 12,
     "metadata": {},
     "output_type": "execute_result"
    }
   ],
   "source": [
    "print(ChickWeight[ChickWeight.Diet==1].weight.mean(),\n",
    "      ChickWeight[ChickWeight.Diet==2].weight.mean())\n",
    "sms.weightstats.ttest_ind(ChickWeight[ChickWeight.Diet==1].weight,\n",
    "                          ChickWeight[ChickWeight.Diet==2].weight,\n",
    "                          usevar='unequal',\n",
    "                          alternative='smaller')"
   ]
  },
  {
   "cell_type": "code",
   "execution_count": 13,
   "metadata": {},
   "outputs": [
    {
     "name": "stdout",
     "output_type": "stream",
     "text": [
      "102.64545454545454 122.61666666666666\n"
     ]
    },
    {
     "data": {
      "text/plain": [
       "(-2.6378338635729652, 0.9955023084883784, 201.38394730819803)"
      ]
     },
     "execution_count": 13,
     "metadata": {},
     "output_type": "execute_result"
    }
   ],
   "source": [
    "print(ChickWeight[ChickWeight.Diet==1].weight.mean(),\n",
    "      ChickWeight[ChickWeight.Diet==2].weight.mean())\n",
    "sms.weightstats.ttest_ind(ChickWeight[ChickWeight.Diet==1].weight,\n",
    "                          ChickWeight[ChickWeight.Diet==2].weight,\n",
    "                          usevar='unequal',\n",
    "                          alternative='larger')"
   ]
  },
  {
   "cell_type": "markdown",
   "metadata": {},
   "source": [
    "From these two test results, we can see that the true sample mean weight for chicks on diet 1 is less than the mean weight for chicks on diet 2. \n",
    "\n",
    ">###Note: In Python, it does not matter if the sample size is equal or unequal between the two samples when running a t-test if you set *usevar* appropriately. In this situation the sample size is unequal - there is more data for diet 1 than diet 2.\n",
    "\n",
    "## Problem Set\n",
    "\n",
    "1. Using the *ChickWeight* dataset again, let's explore the other diets. Is the mean weight greater for diet 2 or diet 3? How do you know?\n",
    "\n",
    "2. Is the mean weight greater for diet 3 or diet 4? How do you know?\n",
    "\n",
    "3. Looking back over all of your results, if you wanted the greatest weight for your chicks, which diet would you put them on? (Hint: you might need to run a couple more additional t-tests to get this answer)"
   ]
  },
  {
   "cell_type": "code",
   "execution_count": 14,
   "metadata": {},
   "outputs": [
    {
     "name": "stdout",
     "output_type": "stream",
     "text": [
      "122.61666666666666 142.95\n"
     ]
    },
    {
     "data": {
      "text/plain": [
       "(-1.982984237168142, 0.04855922267444301, 229.9424772327504)"
      ]
     },
     "execution_count": 14,
     "metadata": {},
     "output_type": "execute_result"
    }
   ],
   "source": [
    "print(ChickWeight[ChickWeight.Diet==2].weight.mean(),\n",
    "      ChickWeight[ChickWeight.Diet==3].weight.mean())\n",
    "sms.weightstats.ttest_ind(ChickWeight[ChickWeight.Diet==2].weight,\n",
    "                          ChickWeight[ChickWeight.Diet==3].weight,\n",
    "                          usevar='unequal')\n",
    "\n",
    "#mean weight is greater for diet 3 than diet 2\n",
    "#p value = 0.04856\n",
    "#reject null hypothesis"
   ]
  },
  {
   "cell_type": "code",
   "execution_count": 15,
   "metadata": {},
   "outputs": [
    {
     "name": "stdout",
     "output_type": "stream",
     "text": [
      "142.95 135.26271186440678\n"
     ]
    },
    {
     "data": {
      "text/plain": [
       "(0.7590752009101828, 0.4485979931230981, 226.15665373353244)"
      ]
     },
     "execution_count": 15,
     "metadata": {},
     "output_type": "execute_result"
    }
   ],
   "source": [
    "print(ChickWeight[ChickWeight.Diet==3].weight.mean(),\n",
    "      ChickWeight[ChickWeight.Diet==4].weight.mean())\n",
    "sms.weightstats.ttest_ind(ChickWeight[ChickWeight.Diet==3].weight,\n",
    "                          ChickWeight[ChickWeight.Diet==4].weight,\n",
    "                          usevar='unequal')\n",
    "\n",
    "#mean weight is not significantly different between diets 3 and 4\n",
    "#p value = 0.4486\n",
    "#fail to reject null hypothesis\n",
    "\n",
    "#choose diet 3 or 4 - no significant difference between the two"
   ]
  }
 ],
 "metadata": {
  "kernelspec": {
   "display_name": "Python 3",
   "language": "python",
   "name": "python3"
  },
  "language_info": {
   "codemirror_mode": {
    "name": "ipython",
    "version": 3
   },
   "file_extension": ".py",
   "mimetype": "text/x-python",
   "name": "python",
   "nbconvert_exporter": "python",
   "pygments_lexer": "ipython3",
   "version": "3.7.0"
  }
 },
 "nbformat": 4,
 "nbformat_minor": 2
}

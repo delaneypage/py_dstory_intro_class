{
 "cells": [
  {
   "cell_type": "markdown",
   "metadata": {},
   "source": [
    "# Dispersion in Python (Instructional Worksheet)\n",
    "\n",
    "## Measuring Dispersion\n",
    "\n",
    "We will continue using the *trees* dataset from the last problem set to explore measures of dispersion, the spread or variability in a set of data. We are interested in the dispersion measures for tree height. \n",
    "\n",
    "Range: difference between the minimum and maximum values"
   ]
  },
  {
   "cell_type": "code",
   "execution_count": 3,
   "metadata": {},
   "outputs": [],
   "source": [
    "import pandas as pd\n",
    "\n",
    "trees = pd.read_csv('../data/trees.csv')"
   ]
  },
  {
   "cell_type": "code",
   "execution_count": 9,
   "metadata": {},
   "outputs": [
    {
     "name": "stdout",
     "output_type": "stream",
     "text": [
      "87.0 63.0\n"
     ]
    },
    {
     "data": {
      "text/plain": [
       "24.0"
      ]
     },
     "execution_count": 9,
     "metadata": {},
     "output_type": "execute_result"
    }
   ],
   "source": [
    "print(max(trees.Height),min(trees.Height))\n",
    "max(trees.Height) - min(trees.Height)"
   ]
  },
  {
   "cell_type": "markdown",
   "metadata": {},
   "source": [
    "Variance: measure of the distance of each value from the mean value "
   ]
  },
  {
   "cell_type": "code",
   "execution_count": 12,
   "metadata": {},
   "outputs": [
    {
     "data": {
      "text/plain": [
       "40.6"
      ]
     },
     "execution_count": 12,
     "metadata": {},
     "output_type": "execute_result"
    }
   ],
   "source": [
    "trees.Height.var()"
   ]
  },
  {
   "cell_type": "markdown",
   "metadata": {},
   "source": [
    "Standard deviation: the square root of variance (how much the values typically vary from the average value)"
   ]
  },
  {
   "cell_type": "code",
   "execution_count": 13,
   "metadata": {},
   "outputs": [
    {
     "data": {
      "text/plain": [
       "6.371812928829597"
      ]
     },
     "execution_count": 13,
     "metadata": {},
     "output_type": "execute_result"
    }
   ],
   "source": [
    "trees['Height'].std()"
   ]
  },
  {
   "cell_type": "markdown",
   "metadata": {},
   "source": [
    "## Problem Set\n",
    "\n",
    "1. We will use the *Loblolly* dataset that we have previously been using. What is the range of values for tree height and tree age?  \n",
    "\n",
    "2. What is the variance and standard deviation of tree height?\n",
    "\n",
    "3. What is the variance and standard deviation of tree height for seed 301? Is it higher or lower than the overall tree height?"
   ]
  },
  {
   "cell_type": "code",
   "execution_count": 22,
   "metadata": {},
   "outputs": [
    {
     "data": {
      "text/plain": [
       "22.638416611297416"
      ]
     },
     "execution_count": 22,
     "metadata": {},
     "output_type": "execute_result"
    }
   ],
   "source": [
    "Loblolly = pd.read_csv('../data/Loblolly.csv')\n",
    "\n",
    "Loblolly.height.max() - Loblolly['height'].min()\n",
    "Loblolly['age'].max() - Loblolly.age.min()\n",
    "\n",
    "Loblolly.height.var()\n",
    "Loblolly.height.std()\n",
    "\n",
    "Loblolly[Loblolly.Seed==301].height.var()\n",
    "Loblolly[Loblolly.Seed==301].height.std()"
   ]
  }
 ],
 "metadata": {
  "kernelspec": {
   "display_name": "Python 3",
   "language": "python",
   "name": "python3"
  },
  "language_info": {
   "codemirror_mode": {
    "name": "ipython",
    "version": 3
   },
   "file_extension": ".py",
   "mimetype": "text/x-python",
   "name": "python",
   "nbconvert_exporter": "python",
   "pygments_lexer": "ipython3",
   "version": "3.7.0"
  }
 },
 "nbformat": 4,
 "nbformat_minor": 2
}

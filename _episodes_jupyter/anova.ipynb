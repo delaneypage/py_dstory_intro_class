{
 "cells": [
  {
   "cell_type": "markdown",
   "metadata": {},
   "source": [
    "# Multi-sample Test (ANOVA)\n",
    "\n",
    "**Goal:** Compare the mean value of more than 2 independent samples ($\\mu_1$, $\\mu_2$, ..., $\\mu_k$). \n",
    "\n",
    "We are interested in which of the following hypotheses is supported by the data.\n",
    "\n",
    "$$H_1: \\mu_1 = \\mu_2 = ... = \\mu_k$$\n",
    "$$H_2: \\mu_1 \\ne \\mu_2 = ... = \\mu_k$$\n",
    "\n",
    "$$H_3: \\mu_1 = \\mu_2 \\ne ... = \\mu_k$$\n",
    "\n",
    "$$H_4: \\mu_1 = \\mu_2 = ... \\ne \\mu_k$$\n",
    "\n",
    "$$H_5: \\mu_1 \\ne \\mu_2 \\ne ... \\ne \\mu_k$$\n",
    "\n",
    "Now that we are interested in comparing more than two samples, we will use an ANOVA instead of a t.test. In R, we will use the *aov()* function. \n",
    "\n",
    "We will use the *ChickWeight* built-in dataset again that we have been using for the last couple of modules. In the last module, we used a series of t-tests to compare the mean weight between chicks on different diet. With an anova we can run one test to see if the mean weight for any one group (diet) is different than any other group. The anova will not tell us which group is different, just that any one group is different. In the next module, we will learn how to tell which is the group that is different.\n"
   ]
  },
  {
   "cell_type": "code",
   "execution_count": 13,
   "metadata": {},
   "outputs": [],
   "source": [
    "import pandas as pd\n",
    "import statsmodels.stats as sms\n",
    "from statsmodels.formula.api import ols\n",
    "\n",
    "ChickWeight = pd.read_csv('../data/ChickWeight.csv')"
   ]
  },
  {
   "cell_type": "code",
   "execution_count": 15,
   "metadata": {},
   "outputs": [
    {
     "data": {
      "text/html": [
       "<div>\n",
       "<style scoped>\n",
       "    .dataframe tbody tr th:only-of-type {\n",
       "        vertical-align: middle;\n",
       "    }\n",
       "\n",
       "    .dataframe tbody tr th {\n",
       "        vertical-align: top;\n",
       "    }\n",
       "\n",
       "    .dataframe thead th {\n",
       "        text-align: right;\n",
       "    }\n",
       "</style>\n",
       "<table border=\"1\" class=\"dataframe\">\n",
       "  <thead>\n",
       "    <tr style=\"text-align: right;\">\n",
       "      <th></th>\n",
       "      <th>df</th>\n",
       "      <th>sum_sq</th>\n",
       "      <th>mean_sq</th>\n",
       "      <th>F</th>\n",
       "      <th>PR(&gt;F)</th>\n",
       "    </tr>\n",
       "  </thead>\n",
       "  <tbody>\n",
       "    <tr>\n",
       "      <th>C(Diet)</th>\n",
       "      <td>3.0</td>\n",
       "      <td>1.558627e+05</td>\n",
       "      <td>51954.219184</td>\n",
       "      <td>10.81009</td>\n",
       "      <td>6.433247e-07</td>\n",
       "    </tr>\n",
       "    <tr>\n",
       "      <th>Residual</th>\n",
       "      <td>574.0</td>\n",
       "      <td>2.758693e+06</td>\n",
       "      <td>4806.085833</td>\n",
       "      <td>NaN</td>\n",
       "      <td>NaN</td>\n",
       "    </tr>\n",
       "  </tbody>\n",
       "</table>\n",
       "</div>"
      ],
      "text/plain": [
       "             df        sum_sq       mean_sq         F        PR(>F)\n",
       "C(Diet)     3.0  1.558627e+05  51954.219184  10.81009  6.433247e-07\n",
       "Residual  574.0  2.758693e+06   4806.085833       NaN           NaN"
      ]
     },
     "execution_count": 15,
     "metadata": {},
     "output_type": "execute_result"
    }
   ],
   "source": [
    "# C(Diet) is used here to make Diet a Categorical variable\n",
    "cw_lm = ols('weight ~ C(Diet)', data=ChickWeight).fit()\n",
    "sms.anova.anova_lm(cw_lm)"
   ]
  },
  {
   "cell_type": "markdown",
   "metadata": {},
   "source": [
    "Looking at the output of the anova, we can see that the mean weight for at least one of the groups (diets) is different than at least one of the other groups. We know this because the p-value (6.433e-07) is less than 0.05. This output tables also gives us the F statistic (10.81). \n",
    "\n",
    "If we want to see the coefficient values for each of the diets we can use the *summary()* function. This tells us the size of the diet effect. "
   ]
  },
  {
   "cell_type": "code",
   "execution_count": 24,
   "metadata": {},
   "outputs": [
    {
     "data": {
      "text/html": [
       "<table class=\"simpletable\">\n",
       "<caption>OLS Regression Results</caption>\n",
       "<tr>\n",
       "  <th>Dep. Variable:</th>         <td>weight</td>      <th>  R-squared:         </th> <td>   0.053</td>\n",
       "</tr>\n",
       "<tr>\n",
       "  <th>Model:</th>                   <td>OLS</td>       <th>  Adj. R-squared:    </th> <td>   0.049</td>\n",
       "</tr>\n",
       "<tr>\n",
       "  <th>Method:</th>             <td>Least Squares</td>  <th>  F-statistic:       </th> <td>   10.81</td>\n",
       "</tr>\n",
       "<tr>\n",
       "  <th>Date:</th>             <td>Mon, 10 Dec 2018</td> <th>  Prob (F-statistic):</th> <td>6.43e-07</td>\n",
       "</tr>\n",
       "<tr>\n",
       "  <th>Time:</th>                 <td>06:22:37</td>     <th>  Log-Likelihood:    </th> <td> -3268.2</td>\n",
       "</tr>\n",
       "<tr>\n",
       "  <th>No. Observations:</th>      <td>   578</td>      <th>  AIC:               </th> <td>   6544.</td>\n",
       "</tr>\n",
       "<tr>\n",
       "  <th>Df Residuals:</th>          <td>   574</td>      <th>  BIC:               </th> <td>   6562.</td>\n",
       "</tr>\n",
       "<tr>\n",
       "  <th>Df Model:</th>              <td>     3</td>      <th>                     </th>     <td> </td>   \n",
       "</tr>\n",
       "<tr>\n",
       "  <th>Covariance Type:</th>      <td>nonrobust</td>    <th>                     </th>     <td> </td>   \n",
       "</tr>\n",
       "</table>\n",
       "<table class=\"simpletable\">\n",
       "<tr>\n",
       "        <td></td>          <th>coef</th>     <th>std err</th>      <th>t</th>      <th>P>|t|</th>  <th>[0.025</th>    <th>0.975]</th>  \n",
       "</tr>\n",
       "<tr>\n",
       "  <th>Intercept</th>    <td>  102.6455</td> <td>    4.674</td> <td>   21.961</td> <td> 0.000</td> <td>   93.465</td> <td>  111.826</td>\n",
       "</tr>\n",
       "<tr>\n",
       "  <th>C(Diet)[T.2]</th> <td>   19.9712</td> <td>    7.867</td> <td>    2.538</td> <td> 0.011</td> <td>    4.519</td> <td>   35.424</td>\n",
       "</tr>\n",
       "<tr>\n",
       "  <th>C(Diet)[T.3]</th> <td>   40.3045</td> <td>    7.867</td> <td>    5.123</td> <td> 0.000</td> <td>   24.852</td> <td>   55.757</td>\n",
       "</tr>\n",
       "<tr>\n",
       "  <th>C(Diet)[T.4]</th> <td>   32.6173</td> <td>    7.910</td> <td>    4.123</td> <td> 0.000</td> <td>   17.080</td> <td>   48.154</td>\n",
       "</tr>\n",
       "</table>\n",
       "<table class=\"simpletable\">\n",
       "<tr>\n",
       "  <th>Omnibus:</th>       <td>54.472</td> <th>  Durbin-Watson:     </th> <td>   0.658</td>\n",
       "</tr>\n",
       "<tr>\n",
       "  <th>Prob(Omnibus):</th> <td> 0.000</td> <th>  Jarque-Bera (JB):  </th> <td>  68.057</td>\n",
       "</tr>\n",
       "<tr>\n",
       "  <th>Skew:</th>          <td> 0.835</td> <th>  Prob(JB):          </th> <td>1.67e-15</td>\n",
       "</tr>\n",
       "<tr>\n",
       "  <th>Kurtosis:</th>      <td> 3.187</td> <th>  Cond. No.          </th> <td>    4.06</td>\n",
       "</tr>\n",
       "</table><br/><br/>Warnings:<br/>[1] Standard Errors assume that the covariance matrix of the errors is correctly specified."
      ],
      "text/plain": [
       "<class 'statsmodels.iolib.summary.Summary'>\n",
       "\"\"\"\n",
       "                            OLS Regression Results                            \n",
       "==============================================================================\n",
       "Dep. Variable:                 weight   R-squared:                       0.053\n",
       "Model:                            OLS   Adj. R-squared:                  0.049\n",
       "Method:                 Least Squares   F-statistic:                     10.81\n",
       "Date:                Mon, 10 Dec 2018   Prob (F-statistic):           6.43e-07\n",
       "Time:                        06:22:37   Log-Likelihood:                -3268.2\n",
       "No. Observations:                 578   AIC:                             6544.\n",
       "Df Residuals:                     574   BIC:                             6562.\n",
       "Df Model:                           3                                         \n",
       "Covariance Type:            nonrobust                                         \n",
       "================================================================================\n",
       "                   coef    std err          t      P>|t|      [0.025      0.975]\n",
       "--------------------------------------------------------------------------------\n",
       "Intercept      102.6455      4.674     21.961      0.000      93.465     111.826\n",
       "C(Diet)[T.2]    19.9712      7.867      2.538      0.011       4.519      35.424\n",
       "C(Diet)[T.3]    40.3045      7.867      5.123      0.000      24.852      55.757\n",
       "C(Diet)[T.4]    32.6173      7.910      4.123      0.000      17.080      48.154\n",
       "==============================================================================\n",
       "Omnibus:                       54.472   Durbin-Watson:                   0.658\n",
       "Prob(Omnibus):                  0.000   Jarque-Bera (JB):               68.057\n",
       "Skew:                           0.835   Prob(JB):                     1.67e-15\n",
       "Kurtosis:                       3.187   Cond. No.                         4.06\n",
       "==============================================================================\n",
       "\n",
       "Warnings:\n",
       "[1] Standard Errors assume that the covariance matrix of the errors is correctly specified.\n",
       "\"\"\""
      ]
     },
     "execution_count": 24,
     "metadata": {},
     "output_type": "execute_result"
    }
   ],
   "source": [
    "cw_lm.summary()"
   ]
  },
  {
   "cell_type": "markdown",
   "metadata": {},
   "source": [
    "For example, in this situation diet 1 has an average weight of 102.65 grams. The effect of diet 2 is to increase weight by 19.97 grams, for diet 3 it increases weight by 40.30, and for diet 4 we see an increase in weight of 32.62 grams. \n",
    "\n",
    "And, we can also see the confidence intervals. \n"
   ]
  },
  {
   "cell_type": "markdown",
   "metadata": {},
   "source": [
    "Recall that these are the confidence intervals for the intercept is around the mean of diet 1, and the confidence intervals for diets 2-4 is the confidence intervals around the difference in means between the particular diet and diet 1. "
   ]
  },
  {
   "cell_type": "markdown",
   "metadata": {},
   "source": [
    "## Problem Set\n",
    "\n",
    "1. Let's explore the *iris* dataset (R built-in dataset). This dataset gives us the measurements of sepal length and width and petal length and width for 50 flowers of 3 species of iris. First, create a boxplot of petal length for the 3 iris species.\n",
    "2. Is there a difference in mean petal length between the 3 iris species? Use an anova to answer this question. \n",
    "3. What are the coefficient for each species and the 95% confidence intervals? Which species has the largest mean petal length?\n"
   ]
  },
  {
   "cell_type": "code",
   "execution_count": 45,
   "metadata": {},
   "outputs": [
    {
     "data": {
      "text/plain": [
       "Text(0.5,0.98,'')"
      ]
     },
     "execution_count": 45,
     "metadata": {},
     "output_type": "execute_result"
    },
    {
     "data": {
      "image/png": "[encoded data removed]",
      "text/plain": [
       "<Figure size 432x288 with 1 Axes>"
      ]
     },
     "metadata": {
      "needs_background": "light"
     },
     "output_type": "display_data"
    }
   ],
   "source": [
    "import matplotlib.pyplot as plt\n",
    "iris = pd.read_csv('../data/iris.csv')\n",
    "# make iris column names pythonic to prevent issues in future\n",
    "# the issue is the '.' syntax in the naming of the columns\n",
    "iris.rename(index=str, columns={\"Petal.Length\": \"Length\"}, inplace=True)\n",
    "\n",
    "# boxplot\n",
    "iris.boxplot(column=['Length'], by='Species')\n",
    "# turn off annoying automatic subtitle\n",
    "plt.suptitle('') "
   ]
  },
  {
   "cell_type": "code",
   "execution_count": 49,
   "metadata": {},
   "outputs": [
    {
     "data": {
      "text/html": [
       "<div>\n",
       "<style scoped>\n",
       "    .dataframe tbody tr th:only-of-type {\n",
       "        vertical-align: middle;\n",
       "    }\n",
       "\n",
       "    .dataframe tbody tr th {\n",
       "        vertical-align: top;\n",
       "    }\n",
       "\n",
       "    .dataframe thead th {\n",
       "        text-align: right;\n",
       "    }\n",
       "</style>\n",
       "<table border=\"1\" class=\"dataframe\">\n",
       "  <thead>\n",
       "    <tr style=\"text-align: right;\">\n",
       "      <th></th>\n",
       "      <th>df</th>\n",
       "      <th>sum_sq</th>\n",
       "      <th>mean_sq</th>\n",
       "      <th>F</th>\n",
       "      <th>PR(&gt;F)</th>\n",
       "    </tr>\n",
       "  </thead>\n",
       "  <tbody>\n",
       "    <tr>\n",
       "      <th>C(Species)</th>\n",
       "      <td>2.0</td>\n",
       "      <td>437.1028</td>\n",
       "      <td>218.551400</td>\n",
       "      <td>1180.161182</td>\n",
       "      <td>2.856777e-91</td>\n",
       "    </tr>\n",
       "    <tr>\n",
       "      <th>Residual</th>\n",
       "      <td>147.0</td>\n",
       "      <td>27.2226</td>\n",
       "      <td>0.185188</td>\n",
       "      <td>NaN</td>\n",
       "      <td>NaN</td>\n",
       "    </tr>\n",
       "  </tbody>\n",
       "</table>\n",
       "</div>"
      ],
      "text/plain": [
       "               df    sum_sq     mean_sq            F        PR(>F)\n",
       "C(Species)    2.0  437.1028  218.551400  1180.161182  2.856777e-91\n",
       "Residual    147.0   27.2226    0.185188          NaN           NaN"
      ]
     },
     "execution_count": 49,
     "metadata": {},
     "output_type": "execute_result"
    }
   ],
   "source": [
    "iris_lm = ols('Length ~ C(Species)', data=iris).fit()\n",
    "sms.anova.anova_lm(iris_lm)\n",
    "# yes, p-value is <2e-16"
   ]
  },
  {
   "cell_type": "code",
   "execution_count": 50,
   "metadata": {},
   "outputs": [
    {
     "data": {
      "text/html": [
       "<table class=\"simpletable\">\n",
       "<caption>OLS Regression Results</caption>\n",
       "<tr>\n",
       "  <th>Dep. Variable:</th>         <td>Length</td>      <th>  R-squared:         </th> <td>   0.941</td>\n",
       "</tr>\n",
       "<tr>\n",
       "  <th>Model:</th>                   <td>OLS</td>       <th>  Adj. R-squared:    </th> <td>   0.941</td>\n",
       "</tr>\n",
       "<tr>\n",
       "  <th>Method:</th>             <td>Least Squares</td>  <th>  F-statistic:       </th> <td>   1180.</td>\n",
       "</tr>\n",
       "<tr>\n",
       "  <th>Date:</th>             <td>Mon, 10 Dec 2018</td> <th>  Prob (F-statistic):</th> <td>2.86e-91</td>\n",
       "</tr>\n",
       "<tr>\n",
       "  <th>Time:</th>                 <td>06:42:14</td>     <th>  Log-Likelihood:    </th> <td> -84.847</td>\n",
       "</tr>\n",
       "<tr>\n",
       "  <th>No. Observations:</th>      <td>   150</td>      <th>  AIC:               </th> <td>   175.7</td>\n",
       "</tr>\n",
       "<tr>\n",
       "  <th>Df Residuals:</th>          <td>   147</td>      <th>  BIC:               </th> <td>   184.7</td>\n",
       "</tr>\n",
       "<tr>\n",
       "  <th>Df Model:</th>              <td>     2</td>      <th>                     </th>     <td> </td>   \n",
       "</tr>\n",
       "<tr>\n",
       "  <th>Covariance Type:</th>      <td>nonrobust</td>    <th>                     </th>     <td> </td>   \n",
       "</tr>\n",
       "</table>\n",
       "<table class=\"simpletable\">\n",
       "<tr>\n",
       "              <td></td>                <th>coef</th>     <th>std err</th>      <th>t</th>      <th>P>|t|</th>  <th>[0.025</th>    <th>0.975]</th>  \n",
       "</tr>\n",
       "<tr>\n",
       "  <th>Intercept</th>                <td>    1.4620</td> <td>    0.061</td> <td>   24.023</td> <td> 0.000</td> <td>    1.342</td> <td>    1.582</td>\n",
       "</tr>\n",
       "<tr>\n",
       "  <th>C(Species)[T.versicolor]</th> <td>    2.7980</td> <td>    0.086</td> <td>   32.510</td> <td> 0.000</td> <td>    2.628</td> <td>    2.968</td>\n",
       "</tr>\n",
       "<tr>\n",
       "  <th>C(Species)[T.virginica]</th>  <td>    4.0900</td> <td>    0.086</td> <td>   47.521</td> <td> 0.000</td> <td>    3.920</td> <td>    4.260</td>\n",
       "</tr>\n",
       "</table>\n",
       "<table class=\"simpletable\">\n",
       "<tr>\n",
       "  <th>Omnibus:</th>       <td> 4.394</td> <th>  Durbin-Watson:     </th> <td>   1.997</td>\n",
       "</tr>\n",
       "<tr>\n",
       "  <th>Prob(Omnibus):</th> <td> 0.111</td> <th>  Jarque-Bera (JB):  </th> <td>   5.366</td>\n",
       "</tr>\n",
       "<tr>\n",
       "  <th>Skew:</th>          <td> 0.122</td> <th>  Prob(JB):          </th> <td>  0.0683</td>\n",
       "</tr>\n",
       "<tr>\n",
       "  <th>Kurtosis:</th>      <td> 3.894</td> <th>  Cond. No.          </th> <td>    3.73</td>\n",
       "</tr>\n",
       "</table><br/><br/>Warnings:<br/>[1] Standard Errors assume that the covariance matrix of the errors is correctly specified."
      ],
      "text/plain": [
       "<class 'statsmodels.iolib.summary.Summary'>\n",
       "\"\"\"\n",
       "                            OLS Regression Results                            \n",
       "==============================================================================\n",
       "Dep. Variable:                 Length   R-squared:                       0.941\n",
       "Model:                            OLS   Adj. R-squared:                  0.941\n",
       "Method:                 Least Squares   F-statistic:                     1180.\n",
       "Date:                Mon, 10 Dec 2018   Prob (F-statistic):           2.86e-91\n",
       "Time:                        06:42:14   Log-Likelihood:                -84.847\n",
       "No. Observations:                 150   AIC:                             175.7\n",
       "Df Residuals:                     147   BIC:                             184.7\n",
       "Df Model:                           2                                         \n",
       "Covariance Type:            nonrobust                                         \n",
       "============================================================================================\n",
       "                               coef    std err          t      P>|t|      [0.025      0.975]\n",
       "--------------------------------------------------------------------------------------------\n",
       "Intercept                    1.4620      0.061     24.023      0.000       1.342       1.582\n",
       "C(Species)[T.versicolor]     2.7980      0.086     32.510      0.000       2.628       2.968\n",
       "C(Species)[T.virginica]      4.0900      0.086     47.521      0.000       3.920       4.260\n",
       "==============================================================================\n",
       "Omnibus:                        4.394   Durbin-Watson:                   1.997\n",
       "Prob(Omnibus):                  0.111   Jarque-Bera (JB):                5.366\n",
       "Skew:                           0.122   Prob(JB):                       0.0683\n",
       "Kurtosis:                       3.894   Cond. No.                         3.73\n",
       "==============================================================================\n",
       "\n",
       "Warnings:\n",
       "[1] Standard Errors assume that the covariance matrix of the errors is correctly specified.\n",
       "\"\"\""
      ]
     },
     "execution_count": 50,
     "metadata": {},
     "output_type": "execute_result"
    }
   ],
   "source": [
    "iris_lm.summary()\n",
    "# setosa - 1.462 mean petal length\n",
    "# versicolor +2.798 mean petal length from setosa\n",
    "# virginica +4.090 mean petal length from setosa\n",
    "# virginica has the largest mean petal length\n",
    "\n",
    "# setosa (1.34, 1.58)\n",
    "# versicolor (2.63, 2.97) difference between versicolor and setosa\n",
    "# virginica (3.92, 4.26) difference between virginica and setosa"
   ]
  }
 ],
 "metadata": {
  "kernelspec": {
   "display_name": "Python 3",
   "language": "python",
   "name": "python3"
  },
  "language_info": {
   "codemirror_mode": {
    "name": "ipython",
    "version": 3
   },
   "file_extension": ".py",
   "mimetype": "text/x-python",
   "name": "python",
   "nbconvert_exporter": "python",
   "pygments_lexer": "ipython3",
   "version": "3.7.0"
  }
 },
 "nbformat": 4,
 "nbformat_minor": 2
}

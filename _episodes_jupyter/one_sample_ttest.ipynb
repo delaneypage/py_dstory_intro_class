{
 "cells": [
  {
   "cell_type": "markdown",
   "metadata": {},
   "source": [
    "# One Sample Test (T-Test) (Instructional Worksheet)\n",
    "\n",
    "## One Sample T-Test\n",
    "\n",
    "**Goal:** Compare the mean value of a sample ($\\mu$) with a constant value ($\\mu_0$). \n",
    "\n",
    "We are interested in whether the following null or alternate hypotheses is supported by the data.\n",
    "\n",
    "$$H_0: \\mu = \\mu_0$$\n",
    "$$H_1: \\mu \\ne \\mu_0$$\n",
    "\n",
    "Because we are interested in comparing the population mean of one sample to a constant value, we will use a one sample t-test. \n",
    "Let's use the *ChickWeight* built-in dataset that we have used in previous modules. Just to recap, this dataset gives us the weight of different chicks that were fed 4 different diets."
   ]
  },
  {
   "cell_type": "code",
   "execution_count": 1,
   "metadata": {},
   "outputs": [],
   "source": [
    "import pandas as pd\n",
    "from scipy import stats\n",
    "ChickWeight = pd.read_csv('../data/ChickWeight.csv')"
   ]
  },
  {
   "cell_type": "code",
   "execution_count": 10,
   "metadata": {},
   "outputs": [
    {
     "name": "stdout",
     "output_type": "stream",
     "text": [
      "Ttest_1sampResult(statistic=7.380526033749192, pvalue=5.529345152599068e-13)\n",
      "121.81833910034602\n"
     ]
    },
    {
     "data": {
      "text/plain": [
       "(116.01210691908608, 127.62457128160597)"
      ]
     },
     "execution_count": 10,
     "metadata": {},
     "output_type": "execute_result"
    }
   ],
   "source": [
    "print(stats.ttest_1samp(ChickWeight.weight, 100))\n",
    "\n",
    "import statsmodels.stats.api as sms\n",
    "\n",
    "print(ChickWeight.weight.mean())\n",
    "sms.DescrStatsW(ChickWeight.weight).tconfint_mean()"
   ]
  },
  {
   "cell_type": "markdown",
   "metadata": {},
   "source": [
    "The above code compares the mean weight of all chicks to a mean weight of 100 grams. If we look at the output, we are given the t-value and the p-value. From these results, we know the actual mean weight for all chicks is 121.8183, with a confidence interval of 116 to 128. Because the confidence interval does not cross the given constant mean (100), our results support the alternative hypothesis, the true mean is not equal to the constant given mean (100). We also know this because the p-value is significant (less than 0.05). \n",
    "\n",
    "In this example, we are running a 2-sided one sample t-test because we are interested in whether or not the mean of the sample is equal or not equal to the constant mean of 100. \n",
    "\n",
    "If we want a different percent confidence interval in our results, we can change the value in our *tconfint_mean()* function. Let's change it to 99%."
   ]
  },
  {
   "cell_type": "code",
   "execution_count": 11,
   "metadata": {},
   "outputs": [
    {
     "data": {
      "text/plain": [
       "(114.17839463591704, 129.458283564775)"
      ]
     },
     "execution_count": 11,
     "metadata": {},
     "output_type": "execute_result"
    }
   ],
   "source": [
    "sms.DescrStatsW(ChickWeight.weight).tconfint_mean(.01)"
   ]
  },
  {
   "cell_type": "markdown",
   "metadata": {},
   "source": [
    "## Problem Set\n",
    "\n",
    "1. Using the *ChickWeight* dataset again, let's run a one sample t-test to see if the mean weight for chick 1 is equal or not equal to 100 grams. Remember that we are only interested in chick 1 now, so make sure you subset your dataset for this particular chick.\n",
    "\n",
    "2. Is the mean weight for chick 1 significantly different than 100 grams? How do you know?\n",
    "\n",
    "3. What is the 95% confidence interval? the 99% confidence interval?\n",
    "\n",
    "4. Now, run a one sample t-test comparing the mean weight of chick 1 to a constant weight of 150 grams. What are your conclusions?"
   ]
  },
  {
   "cell_type": "code",
   "execution_count": 13,
   "metadata": {},
   "outputs": [
    {
     "data": {
      "text/plain": [
       "Ttest_1sampResult(statistic=0.7000381849424331, pvalue=0.49844153563322424)"
      ]
     },
     "execution_count": 13,
     "metadata": {},
     "output_type": "execute_result"
    }
   ],
   "source": [
    "stats.ttest_1samp(ChickWeight[ChickWeight.Chick==1].weight, 100)\n",
    "\n",
    "#chick 1 weight not significantly different than 100\n",
    "#p value = 0.4984 (>0.05)\n",
    "#confidence interval crosses 100\n",
    "#fail to reject null hypothesis"
   ]
  },
  {
   "cell_type": "code",
   "execution_count": 16,
   "metadata": {},
   "outputs": [
    {
     "data": {
      "text/plain": [
       "(74.98558161545712, 148.34775171787624)"
      ]
     },
     "execution_count": 16,
     "metadata": {},
     "output_type": "execute_result"
    }
   ],
   "source": [
    "sms.DescrStatsW(ChickWeight[ChickWeight.Chick==1].weight).tconfint_mean(.05)\n",
    "#95% confidence interval (74.99 - 148.35)"
   ]
  },
  {
   "cell_type": "code",
   "execution_count": 17,
   "metadata": {},
   "outputs": [
    {
     "data": {
      "text/plain": [
       "(59.906048317122554, 163.4272850162108)"
      ]
     },
     "execution_count": 17,
     "metadata": {},
     "output_type": "execute_result"
    }
   ],
   "source": [
    "sms.DescrStatsW(ChickWeight[ChickWeight.Chick==1].weight).tconfint_mean(.01)\n",
    "#99% confidence interval (59.91 - 163.43)"
   ]
  },
  {
   "cell_type": "code",
   "execution_count": 18,
   "metadata": {},
   "outputs": [
    {
     "data": {
      "text/plain": [
       "Ttest_1sampResult(statistic=-2.3001254648108502, pvalue=0.04202265007409315)"
      ]
     },
     "execution_count": 18,
     "metadata": {},
     "output_type": "execute_result"
    }
   ],
   "source": [
    "stats.ttest_1samp(ChickWeight[ChickWeight.Chick==1].weight, 150)\n",
    "\n",
    "#chick 1 weight significantly differnt than 150 \n",
    "#p value 0.042\n",
    "#support alternative hypothesis - reject null hypothesis"
   ]
  }
 ],
 "metadata": {
  "kernelspec": {
   "display_name": "Python 3",
   "language": "python",
   "name": "python3"
  },
  "language_info": {
   "codemirror_mode": {
    "name": "ipython",
    "version": 3
   },
   "file_extension": ".py",
   "mimetype": "text/x-python",
   "name": "python",
   "nbconvert_exporter": "python",
   "pygments_lexer": "ipython3",
   "version": "3.7.0"
  }
 },
 "nbformat": 4,
 "nbformat_minor": 2
}

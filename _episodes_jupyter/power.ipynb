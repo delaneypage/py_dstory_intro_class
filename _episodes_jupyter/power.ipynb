{
 "cells": [
  {
   "cell_type": "markdown",
   "metadata": {},
   "source": [
    "# Effect Size and Power (Instructional Worksheet)\n",
    "\n",
    "##  Measures of Effect Size\n",
    "\n",
    "We will go through and calculate the effect size using the various methods for the different statistical tests we have learned about in the last couple of modules. We will use the same datasets that we used in previous modules so that we can examine the effect size for the tests that we previously ran and see how that influences our conclusions.\n",
    "\n",
    "We will calculate each effect size using two different methods. First, directly using the equation from the textbook, and second using a function in the *sms* package."
   ]
  },
  {
   "cell_type": "markdown",
   "metadata": {},
   "source": [
    "## Two Sample T-test\n",
    "\n",
    "For the two sample t-test in module 12, we were interested in the mean weight of chicks that were given diet 1 versus diet 2, from the *ChickWeight* dataset. We concluded that the mean weight was significantly different for the chicks on diet 1 vs. diet 2. In fact, we figured out that the mean weight for diet 2 was significantly higher than for diet 1. \n",
    "\n",
    "So now, we are interested in the effect size for this difference. Is the effect size large enough that it would be worth it for someone to change their chicks diet?\n",
    "\n",
    "#### Cohen's *d*\n",
    "\n",
    "The formula for Cohen's *d* is as follows:\n",
    "$$d = (M_1 - M_2) / S_{DV}$$\n",
    "\n",
    "$M_1$ and $M_2$ refers to the mean of the two samples\n",
    "\n",
    "$S_{DV}$ refers to the standard deviation of the dependent variable for all samples"
   ]
  },
  {
   "cell_type": "code",
   "execution_count": 11,
   "metadata": {},
   "outputs": [],
   "source": [
    "import pandas as pd\n",
    "import statsmodels.stats as sms\n",
    "from statsmodels.formula.api import ols\n",
    "\n",
    "ChickWeight = pd.read_csv('../data/ChickWeight.csv')"
   ]
  },
  {
   "cell_type": "code",
   "execution_count": 12,
   "metadata": {},
   "outputs": [
    {
     "data": {
      "text/plain": [
       "-0.31763006239991504"
      ]
     },
     "execution_count": 12,
     "metadata": {},
     "output_type": "execute_result"
    }
   ],
   "source": [
    "M1  = ChickWeight[ChickWeight.Diet==1].weight.mean()\n",
    "M2  = ChickWeight[ChickWeight.Diet==2].weight.mean()\n",
    "SDV = ChickWeight.loc[(ChickWeight['Diet']==1) | (ChickWeight['Diet']==2), \n",
    "                      'weight'].values.std()\n",
    "d   = (M1-M2)/SDV\n",
    "d"
   ]
  },
  {
   "cell_type": "markdown",
   "metadata": {},
   "source": [
    "Our results give us a Cohen's *d* value of -0.317. Using the guidelines from the textbook, we conclude that this is a small effect. \n",
    "\n",
    "#### Effect size *r*\n",
    "\n",
    "The formula for the effect size *r* is as follows:\n",
    "$$r = sqrt(t^2/(t^2 + df))$$\n",
    "$t^2$ refers to t-statistic calculated from the t-test\n",
    "\n",
    "$df$ refers to the degrees of freedom of the t-test"
   ]
  },
  {
   "cell_type": "code",
   "execution_count": 13,
   "metadata": {},
   "outputs": [
    {
     "data": {
      "text/plain": [
       "(-2.6378338635729652, 0.008995383023243087, 201.38394730819803)"
      ]
     },
     "execution_count": 13,
     "metadata": {},
     "output_type": "execute_result"
    }
   ],
   "source": [
    "sms.weightstats.ttest_ind(ChickWeight[ChickWeight.Diet==1].weight,\n",
    "                          ChickWeight[ChickWeight.Diet==2].weight,\n",
    "                          usevar='unequal')"
   ]
  },
  {
   "cell_type": "code",
   "execution_count": 14,
   "metadata": {},
   "outputs": [
    {
     "data": {
      "text/plain": [
       "0.1827506394211888"
      ]
     },
     "execution_count": 14,
     "metadata": {},
     "output_type": "execute_result"
    }
   ],
   "source": [
    "ttest = sms.weightstats.ttest_ind(ChickWeight[ChickWeight.Diet==1].weight,\n",
    "                                  ChickWeight[ChickWeight.Diet==2].weight,\n",
    "                                  usevar='unequal')\n",
    "\n",
    "t = ttest[0]\n",
    "df = ttest[2]\n",
    "r = np.sqrt(t**2/(t**2 + df))\n",
    "r"
   ]
  },
  {
   "cell_type": "markdown",
   "metadata": {},
   "source": [
    "Our results give us an effect size *r* value of -0.183. Using the guidelines from the textbook, we conclude, again, that this is a small effect. "
   ]
  },
  {
   "cell_type": "markdown",
   "metadata": {},
   "source": [
    "## ANOVA *F* Tests\n",
    "\n",
    "For the ANOVA analysis in module 13, we were again interested in the mean weight of chicks that were given various diets, from the *ChickWeight* dataset. We concluded that there was a significant difference in mean weight between at least two of the different diets.\n",
    "\n",
    "Again, we are interested in the effect size for this difference. Is the effect size large enough that it would be worth it for someone to change their chicks diet?\n",
    "\n",
    "#### Effect size $\\eta$\n",
    "The formula for the effect size $\\eta$ is as follows:\n",
    "$$\\eta = sqrt(SS_{bet}/SS_{tot})$$\n",
    "$SS{bet}$ refers to the sum of squares between samples (i.e., sum of squares for the treatment)\n",
    "$SS{tot}$ refers to the total sum of squares (i.e., sum of squares for the treatment and residuals combined)"
   ]
  },
  {
   "cell_type": "code",
   "execution_count": 20,
   "metadata": {},
   "outputs": [
    {
     "data": {
      "text/plain": [
       "0.23125165093346575"
      ]
     },
     "execution_count": 20,
     "metadata": {},
     "output_type": "execute_result"
    }
   ],
   "source": [
    "cw_lm   = ols('weight ~ C(Diet)', data=ChickWeight).fit()\n",
    "r       = sms.anova.anova_lm(cw_lm)\n",
    "SS_bet  = r.sum_sq[0] # sum of squares for diet\n",
    "SS_with = r.sum_sq[1] # sum of squares for residuals\n",
    "SS_tot  = SS_bet + SS_with\n",
    "eta     = np.sqrt(SS_bet/SS_tot)\n",
    "eta"
   ]
  },
  {
   "cell_type": "markdown",
   "metadata": {},
   "source": [
    "Our results give us an effect size $\\eta$ value of 0.231. Using the guidelines from the textbook, we conclude that this is a small effect."
   ]
  },
  {
   "cell_type": "markdown",
   "metadata": {},
   "source": [
    "## Chi-square Tests\n",
    "For the Chi-square Tests in module 15, we used our own flower data to (1) see if our data follows the expected distribution and (2) test for independence between two or more variables.\n",
    "\n",
    "We are interested in the effect size for our chi-square statistic - is the difference meaningful in practical terms?\n",
    "We use a different statistic depending on the number of variables of interest.\n",
    "\n",
    "#### Goodness of Fit Test (One Variable)\n",
    "The formula for the effect size $r$ is as follows:\n",
    "$$r=sqrt(\\chi^2/((N)(c-1))$$\n",
    "$\\chi^2$ refers to the chi-squared statistic\n",
    "$N$ refers to the total sample size\n",
    "$c$ refers to the number of categories"
   ]
  },
  {
   "cell_type": "code",
   "execution_count": 31,
   "metadata": {},
   "outputs": [
    {
     "data": {
      "text/plain": [
       "0.0205086747936035"
      ]
     },
     "execution_count": 31,
     "metadata": {},
     "output_type": "execute_result"
    }
   ],
   "source": [
    "from scipy import stats\n",
    "\n",
    "flower = pd.DataFrame(\n",
    "    {'color': ['red', 'white'],\n",
    "     'freq' : [705, 224]})\n",
    "\n",
    "# we can get chisquare from statsmodels library as well\n",
    "chi = stats.chisquare(flower.freq, \n",
    "                      [.75*flower.freq.sum(), .25*flower.freq.sum()])\n",
    "\n",
    "N = 929\n",
    "c = 2\n",
    "chistat = chi[0]\n",
    "\n",
    "r = np.sqrt(chistat/(N*(c-1)))\n",
    "r"
   ]
  },
  {
   "cell_type": "markdown",
   "metadata": {},
   "source": [
    "Our results give us an effect size $r$ value of 0.021. Using the guidelines from the textbook, we conclude that this is a small effect."
   ]
  },
  {
   "cell_type": "markdown",
   "metadata": {},
   "source": [
    "#### Test for Independence (two-variable)\n",
    "The effect size statistics for the test of independence depends on the number of categories on each variable. \n",
    "In module 15, we had 2 categories on 2 variables. In this situation we use $\\phi$ as our effect size statistic.\n",
    "The formula for the effect size $\\phi$ is as follows:\n",
    "$$\\phi = sqrt(\\chi^2/N)$$\n",
    "\n",
    "$\\chi^2$ refers to the chi-squared statistic\n",
    "$N$ refers to the total sample size"
   ]
  },
  {
   "cell_type": "code",
   "execution_count": 38,
   "metadata": {},
   "outputs": [
    {
     "data": {
      "text/plain": [
       "0.07756509358793227"
      ]
     },
     "execution_count": 38,
     "metadata": {},
     "output_type": "execute_result"
    }
   ],
   "source": [
    "flower['surv'] = [448,103]\n",
    "chi = stats.chi2_contingency(flower[['freq', 'surv']])\n",
    "N = 929\n",
    "chi_st = chi[0]\n",
    "phi = np.sqrt(chi_st/N)\n",
    "phi"
   ]
  },
  {
   "cell_type": "markdown",
   "metadata": {},
   "source": [
    "Our results give us an effect size $\\phi$ value of 0.0775. Using the guidelines from the textbook, we conclude that this is a small effect."
   ]
  },
  {
   "cell_type": "markdown",
   "metadata": {},
   "source": [
    "If we have more than 2 categories for each variable, we instead use Cramer's *V* as our effect size statistics.\n",
    "Let's suppose that we also have pink flowers. There are 97 pink flowers, and 78 of their plants survived for the season. First, add this information to your data frame and then rerun your chi-squared analysis. "
   ]
  },
  {
   "cell_type": "code",
   "execution_count": 40,
   "metadata": {},
   "outputs": [],
   "source": [
    "flower2 = pd.DataFrame({'color': ['red','white','pink'],\n",
    "                        'freq': [705,224,97],\n",
    "                        'surv': [448,103,78]})\n",
    "chi2 = stats.chi2_contingency(flower2[['freq', 'surv']])\n",
    "chi_st2 = chi2[0]"
   ]
  },
  {
   "cell_type": "markdown",
   "metadata": {},
   "source": [
    "In this situation, we will use Cramer's *V* as our effect size statistic. The formula is as follows:\n",
    "$$V = sqrt(\\phi^2/(the\\ smaller\\ of\\ R\\ or\\ C)-1))$$\n",
    "$R$ is the number of rows\n",
    "$C$ is the number of columns\n",
    "$\\phi$ is calculated from the formula above  \n",
    "\n",
    "So, first lets calculate $\\phi$ and then we can calculate *V*."
   ]
  },
  {
   "cell_type": "code",
   "execution_count": 42,
   "metadata": {},
   "outputs": [
    {
     "data": {
      "text/plain": [
       "0.0712480211571941"
      ]
     },
     "execution_count": 42,
     "metadata": {},
     "output_type": "execute_result"
    }
   ],
   "source": [
    "N = 929\n",
    "phi = np.sqrt(chi_st2/N)\n",
    "phi2 = phi**2\n",
    "#R = 3, C = 3 - 3 rows and 3 columns\n",
    "V = np.sqrt(phi2/(3-1))\n",
    "V"
   ]
  },
  {
   "cell_type": "markdown",
   "metadata": {},
   "source": [
    "Our results give us an effect size $V$ value of 0.0712. Using the guidelines from the textbook, we conclude that this is a small effect."
   ]
  },
  {
   "cell_type": "markdown",
   "metadata": {},
   "source": [
    "## Power\n",
    "\n",
    "Once we have the effect size statistic, we can calculate power. Recall that power is we correctly reject the null hypothesis that is in fact false. Ideally a power > 80% is desired.\n",
    "\n",
    "#### Power for 2-sample t-test with unequal sample size\n",
    "\n",
    "We will use the function *pwr.t2n.test()* to calculate power. We will use the sample size, and Cohen's effect size (*d*) from above to calculate power. We will use a significance level of 5% (type 1 error probability)."
   ]
  },
  {
   "cell_type": "code",
   "execution_count": 46,
   "metadata": {},
   "outputs": [
    {
     "data": {
      "text/plain": [
       "1.0"
      ]
     },
     "execution_count": 46,
     "metadata": {},
     "output_type": "execute_result"
    }
   ],
   "source": [
    "sms.power.tt_ind_solve_power(effect_size=100, nobs1=220, \n",
    "                             power=None, alpha=0.05, ratio=0.5)"
   ]
  },
  {
   "cell_type": "code",
   "execution_count": null,
   "metadata": {},
   "outputs": [],
   "source": []
  }
 ],
 "metadata": {
  "kernelspec": {
   "display_name": "Python 3",
   "language": "python",
   "name": "python3"
  },
  "language_info": {
   "codemirror_mode": {
    "name": "ipython",
    "version": 3
   },
   "file_extension": ".py",
   "mimetype": "text/x-python",
   "name": "python",
   "nbconvert_exporter": "python",
   "pygments_lexer": "ipython3",
   "version": "3.7.0"
  }
 },
 "nbformat": 4,
 "nbformat_minor": 2
}

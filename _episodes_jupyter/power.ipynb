{
 "cells": [
  {
   "cell_type": "markdown",
   "metadata": {},
   "source": [
    "# Effect Size and Power (Instructional Worksheet)\n",
    "\n",
    "##  Measures of Effect Size\n",
    "\n",
    "We will go through and calculate the effect size using the various methods for the different statistical tests we have learned about in the last couple of modules. We will use the same datasets that we used in previous modules so that we can examine the effect size for the tests that we previously ran and see how that influences our conclusions.\n",
    "\n",
    "We will calculate each effect size using two different methods. First, directly using the equation from the textbook, and second using a function in the *sms* package."
   ]
  },
  {
   "cell_type": "markdown",
   "metadata": {},
   "source": [
    "## Two Sample T-test\n",
    "\n",
    "For the two sample t-test in module 12, we were interested in the mean weight of chicks that were given diet 1 versus diet 2, from the *ChickWeight* dataset. We concluded that the mean weight was significantly different for the chicks on diet 1 vs. diet 2. In fact, we figured out that the mean weight for diet 2 was significantly higher than for diet 1. \n",
    "\n",
    "So now, we are interested in the effect size for this difference. Is the effect size large enough that it would be worth it for someone to change their chicks diet?\n",
    "\n",
    "#### Cohen's *d*\n",
    "\n",
    "The formula for Cohen's *d* is as follows:\n",
    "$$d = (M_1 - M_2) / S_{DV}$$\n",
    "\n",
    "$M_1$ and $M_2$ refers to the mean of the two samples\n",
    "\n",
    "$S_{DV}$ refers to the standard deviation of the dependent variable for all samples"
   ]
  },
  {
   "cell_type": "code",
   "execution_count": 28,
   "metadata": {},
   "outputs": [],
   "source": [
    "import pandas as pd\n",
    "import numpy as np\n",
    "import statsmodels.stats as sms\n",
    "\n",
    "ChickWeight = pd.read_csv('../data/ChickWeight.csv')"
   ]
  },
  {
   "cell_type": "code",
   "execution_count": 26,
   "metadata": {},
   "outputs": [
    {
     "data": {
      "text/plain": [
       "-0.31763006239991504"
      ]
     },
     "execution_count": 26,
     "metadata": {},
     "output_type": "execute_result"
    }
   ],
   "source": [
    "M1  = ChickWeight[ChickWeight.Diet==1].weight.mean()\n",
    "M2  = ChickWeight[ChickWeight.Diet==2].weight.mean()\n",
    "SDV = ChickWeight.loc[(ChickWeight['Diet']==1) | (ChickWeight['Diet']==2), \n",
    "                      'weight'].values.std()\n",
    "d   = (M1-M2)/SDV\n",
    "d"
   ]
  },
  {
   "cell_type": "markdown",
   "metadata": {},
   "source": [
    "Our results give us a Cohen's *d* value of -0.317. Using the guidelines from the textbook, we conclude that this is a small effect. \n",
    "\n",
    "#### Effect size *r*\n",
    "\n",
    "The formula for the effect size *r* is as follows:\n",
    "$$r = sqrt(t^2/(t^2 + df))$$\n",
    "$t^2$ refers to t-statistic calculated from the t-test\n",
    "\n",
    "$df$ refers to the degrees of freedom of the t-test"
   ]
  },
  {
   "cell_type": "code",
   "execution_count": 33,
   "metadata": {},
   "outputs": [
    {
     "ename": "AttributeError",
     "evalue": "module 'statsmodels.stats' has no attribute 'weightstats'",
     "output_type": "error",
     "traceback": [
      "\u001b[0;31m---------------------------------------------------------------------------\u001b[0m",
      "\u001b[0;31mAttributeError\u001b[0m                            Traceback (most recent call last)",
      "\u001b[0;32m<ipython-input-33-f22dc34a7262>\u001b[0m in \u001b[0;36m<module>\u001b[0;34m()\u001b[0m\n\u001b[0;32m----> 1\u001b[0;31m ttest = sms.weightstats.ttest_ind(ChickWeight[ChickWeight.Diet==1].weight,\n\u001b[0m\u001b[1;32m      2\u001b[0m                                   \u001b[0mChickWeight\u001b[0m\u001b[0;34m[\u001b[0m\u001b[0mChickWeight\u001b[0m\u001b[0;34m.\u001b[0m\u001b[0mDiet\u001b[0m\u001b[0;34m==\u001b[0m\u001b[0;36m2\u001b[0m\u001b[0;34m]\u001b[0m\u001b[0;34m.\u001b[0m\u001b[0mweight\u001b[0m\u001b[0;34m,\u001b[0m\u001b[0;34m\u001b[0m\u001b[0m\n\u001b[1;32m      3\u001b[0m                                   usevar='unequal')\n\u001b[1;32m      4\u001b[0m \u001b[0mttest\u001b[0m\u001b[0;34m\u001b[0m\u001b[0m\n\u001b[1;32m      5\u001b[0m \u001b[0;34m\u001b[0m\u001b[0m\n",
      "\u001b[0;31mAttributeError\u001b[0m: module 'statsmodels.stats' has no attribute 'weightstats'"
     ]
    }
   ],
   "source": [
    "ttest = sms.weightstats.ttest_ind(ChickWeight[ChickWeight.Diet==1].weight,\n",
    "                                  ChickWeight[ChickWeight.Diet==2].weight,\n",
    "                                  usevar='unequal')\n",
    "ttest\n",
    "\n",
    "# https://www.statsmodels.org/dev/generated/statsmodels.stats.weightstats.ttest_ind.html"
   ]
  },
  {
   "cell_type": "code",
   "execution_count": null,
   "metadata": {},
   "outputs": [],
   "source": []
  }
 ],
 "metadata": {
  "kernelspec": {
   "display_name": "Python 3",
   "language": "python",
   "name": "python3"
  },
  "language_info": {
   "codemirror_mode": {
    "name": "ipython",
    "version": 3
   },
   "file_extension": ".py",
   "mimetype": "text/x-python",
   "name": "python",
   "nbconvert_exporter": "python",
   "pygments_lexer": "ipython3",
   "version": "3.7.0"
  }
 },
 "nbformat": 4,
 "nbformat_minor": 2
}

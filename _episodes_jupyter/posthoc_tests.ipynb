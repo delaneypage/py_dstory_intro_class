{
 "cells": [
  {
   "cell_type": "markdown",
   "metadata": {},
   "source": [
    "# Post-hoc Tests (Instructional Worksheet)\n",
    "\n",
    "Based on our ANOVA analyses from the last module, we know that there is a difference between the mean petal length of different species of iris from the *iris* built-in dataset. Now that we know there is a difference, how do we identify the differences between specific pairs (i.e., which groups are different from one another)? We could figure this out by running a series of pair-wise t-tests like we did in previous modules - however, the better route is to instead use a multiple comparison method, which controls for overall type I error, which you read about in your textbook.\n",
    "\n",
    "We will go through how to run two different multiple comparison method: Tukey HSD and Scheffe's Test.\n",
    "\n",
    "## Tukey HSD\n",
    "\n",
    "The Tukey HSD, or Tukey Honest Significant Differences Method, runs a series of pairwise t-tests, but then adjuts the p-values to control overall type I error. In Python, we will use the *TukeyHDS()* function."
   ]
  },
  {
   "cell_type": "code",
   "execution_count": 5,
   "metadata": {},
   "outputs": [],
   "source": [
    "import pandas as pd\n",
    "import statsmodels.stats.api as sms\n",
    "\n",
    "iris = pd.read_csv('../data/iris.csv')"
   ]
  },
  {
   "cell_type": "code",
   "execution_count": 7,
   "metadata": {},
   "outputs": [
    {
     "name": "stdout",
     "output_type": "stream",
     "text": [
      " Multiple Comparison of Means - Tukey HSD,FWER=0.05\n",
      "===================================================\n",
      "  group1     group2   meandiff lower  upper  reject\n",
      "---------------------------------------------------\n",
      "  setosa   versicolor  2.798   2.5942 3.0018  True \n",
      "  setosa   virginica    4.09   3.8862 4.2938  True \n",
      "versicolor virginica   1.292   1.0882 1.4958  True \n",
      "---------------------------------------------------\n"
     ]
    }
   ],
   "source": [
    "print(sms.multicomp.pairwise_tukeyhsd(iris['Petal.Length'], iris['Species']))"
   ]
  },
  {
   "cell_type": "markdown",
   "metadata": {},
   "source": [
    "From the output, we can see the pair-wise comparisons between the three different iris species. For each pair, we are given the difference (diff) between the means of the pair, the lower (lwr) and upper (upr) confidence interval around the difference in means.\n",
    "In this situation, the p-value for each pair is 0, which is significant since 0 < 0.5.\n",
    "\n",
    "Overall, these results tell us that there is a significant different in petal length between all 3 of the iris species.\n",
    "\n",
    "If we want our results using a 99% confidence level we can add the *alpha* argument."
   ]
  },
  {
   "cell_type": "code",
   "execution_count": 9,
   "metadata": {},
   "outputs": [
    {
     "name": "stdout",
     "output_type": "stream",
     "text": [
      " Multiple Comparison of Means - Tukey HSD,FWER=0.01\n",
      "===================================================\n",
      "  group1     group2   meandiff lower  upper  reject\n",
      "---------------------------------------------------\n",
      "  setosa   versicolor  2.798   2.5433 3.0527  True \n",
      "  setosa   virginica    4.09   3.8353 4.3447  True \n",
      "versicolor virginica   1.292   1.0373 1.5467  True \n",
      "---------------------------------------------------\n"
     ]
    }
   ],
   "source": [
    "print(sms.multicomp.pairwise_tukeyhsd(iris['Petal.Length'], iris['Species'], alpha=0.01))"
   ]
  },
  {
   "cell_type": "markdown",
   "metadata": {},
   "source": [
    "You'll notice that the difference and the rejection does not change, but the confidence intervals are now 99% confidence intervals instead of 95%."
   ]
  },
  {
   "cell_type": "markdown",
   "metadata": {},
   "source": [
    "## Problem Set\n",
    "\n",
    "1. We will now use the *PlantGrowth* built-in dataset that we used in an earlier module. This dataset gives us the dried weight of plants under three different groups: ctrl, trt1, trt2. First, let's create a boxplot of the weight for each group to see if there are any obvious differences in mean weight between groups.\n",
    "\n",
    "2. Run a TukeyHSD post-hoc test to find out the difference for each pair-wise comparison. Are any of the groups significantly different?"
   ]
  },
  {
   "cell_type": "code",
   "execution_count": 28,
   "metadata": {},
   "outputs": [
    {
     "data": {
      "text/plain": [
       "<matplotlib.axes._subplots.AxesSubplot at 0x7f8dc31f5860>"
      ]
     },
     "execution_count": 28,
     "metadata": {},
     "output_type": "execute_result"
    },
    {
     "data": {
      "image/png": "[encoded data removed]",
      "text/plain": [
       "<Figure size 432x288 with 1 Axes>"
      ]
     },
     "metadata": {
      "needs_background": "light"
     },
     "output_type": "display_data"
    }
   ],
   "source": [
    "PlantGrowth = pd.read_csv('../data/PlantGrowth.csv')\n",
    "import matplotlib.pyplot as plt\n",
    "\n",
    "PlantGrowth.boxplot(column=['weight'], by='group')"
   ]
  },
  {
   "cell_type": "code",
   "execution_count": 30,
   "metadata": {},
   "outputs": [
    {
     "name": "stdout",
     "output_type": "stream",
     "text": [
      "Multiple Comparison of Means - Tukey HSD,FWER=0.05\n",
      "============================================\n",
      "group1 group2 meandiff  lower  upper  reject\n",
      "--------------------------------------------\n",
      " ctrl   trt1   -0.371  -1.0621 0.3201 False \n",
      " ctrl   trt2   0.494   -0.1971 1.1851 False \n",
      " trt1   trt2   0.865    0.1739 1.5561  True \n",
      "--------------------------------------------\n"
     ]
    }
   ],
   "source": [
    "print(sms.multicomp.pairwise_tukeyhsd(PlantGrowth['weight'], PlantGrowth['group']))\n",
    "\n",
    "#different between treatment 1 and 2 but not between control and treatment 1 or 2\n"
   ]
  }
 ],
 "metadata": {
  "kernelspec": {
   "display_name": "Python 3",
   "language": "python",
   "name": "python3"
  },
  "language_info": {
   "codemirror_mode": {
    "name": "ipython",
    "version": 3
   },
   "file_extension": ".py",
   "mimetype": "text/x-python",
   "name": "python",
   "nbconvert_exporter": "python",
   "pygments_lexer": "ipython3",
   "version": "3.7.0"
  }
 },
 "nbformat": 4,
 "nbformat_minor": 2
}
